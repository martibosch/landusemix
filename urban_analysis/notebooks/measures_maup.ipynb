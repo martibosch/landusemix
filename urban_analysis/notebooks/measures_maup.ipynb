{
 "cells": [
  {
   "cell_type": "code",
   "execution_count": 1,
   "metadata": {
    "autoscroll": "json-false",
    "collapsed": false,
    "ein.tags": [
     "worksheet-0"
    ]
   },
   "outputs": [],
   "source": [
    "# automatically update imports\n",
    "%load_ext autoreload\n",
    "%autoreload 2\n",
    "\n",
    "# For graphs\n",
    "%matplotlib inline\n",
    "\n",
    "# snippet for relative imports\n",
    "import os\n",
    "import sys\n",
    "module_path = os.path.abspath(os.path.join('..'))\n",
    "if module_path not in sys.path:\n",
    "    sys.path.append(module_path)"
   ]
  },
  {
   "cell_type": "code",
   "execution_count": 56,
   "metadata": {
    "autoscroll": "json-false",
    "collapsed": false,
    "ein.tags": [
     "worksheet-0"
    ]
   },
   "outputs": [],
   "source": [
    "import numpy as np\n",
    "\n",
    "city_refs = ['dublin_pleasanton', 'girona', 'sant_feilu', 'sierra_vista']\n",
    "bboxes = { city_ref : bbox for city_ref, bbox in zip(city_refs, [[37.6248, -121.9603, 37.7296, -121.8202], [41.9262, 2.7692, 42.0237, 2.8489], [41.3700, 2.0203, 41.3973, 2.0774], [31.5109, -110.3800, 31.5816, -110.2052]]) }\n",
    "steps = np.arange(0.005, 0.001, -0.0005)"
   ]
  },
  {
   "cell_type": "code",
   "execution_count": 3,
   "metadata": {
    "autoscroll": "json-false",
    "collapsed": false,
    "ein.tags": [
     "worksheet-0"
    ]
   },
   "outputs": [],
   "source": [
    "import osm_loader\n",
    "\n",
    "poiss = { city_ref : osm_loader.pois_from_bbox(bboxes[city_ref]) for city_ref in city_refs }"
   ]
  },
  {
   "cell_type": "code",
   "execution_count": 4,
   "metadata": {
    "autoscroll": "json-false",
    "collapsed": false,
    "ein.tags": [
     "worksheet-0"
    ]
   },
   "outputs": [],
   "source": [
    "import kde\n",
    "\n",
    "activity_step_kdes = { city_ref : {step: kde.get_grid_category_kde(poiss[city_ref], bboxes[city_ref], step) for step in steps} for city_ref in city_refs }"
   ]
  },
  {
   "cell_type": "code",
   "execution_count": 66,
   "metadata": {
    "autoscroll": "json-false",
    "collapsed": false,
    "ein.tags": [
     "worksheet-0"
    ]
   },
   "outputs": [
    {
     "name": "stdout",
     "output_type": "stream",
     "text": [
      "dublin_pleasanton\n",
      "\tmoran\n",
      "\t\tcount\n"
     ]
    },
    {
     "name": "stdout",
     "output_type": "stream",
     "text": [
      "\t\tkde\n"
     ]
    },
    {
     "name": "stdout",
     "output_type": "stream",
     "text": [
      "\tgeary\n",
      "\t\tcount\n"
     ]
    },
    {
     "name": "stdout",
     "output_type": "stream",
     "text": [
      "\t\tkde\n"
     ]
    },
    {
     "name": "stdout",
     "output_type": "stream",
     "text": [
      "girona\n",
      "\tmoran\n",
      "\t\tcount\n"
     ]
    },
    {
     "name": "stdout",
     "output_type": "stream",
     "text": [
      "\t\tkde\n"
     ]
    },
    {
     "name": "stdout",
     "output_type": "stream",
     "text": [
      "\tgeary\n",
      "\t\tcount\n"
     ]
    },
    {
     "name": "stdout",
     "output_type": "stream",
     "text": [
      "\t\tkde\n"
     ]
    },
    {
     "name": "stdout",
     "output_type": "stream",
     "text": [
      "sant_feilu\n",
      "\tmoran\n",
      "\t\tcount\n"
     ]
    },
    {
     "name": "stdout",
     "output_type": "stream",
     "text": [
      "\t\tkde\n",
      "\tgeary\n",
      "\t\tcount\n"
     ]
    },
    {
     "name": "stdout",
     "output_type": "stream",
     "text": [
      "\t\tkde\n",
      "sierra_vista\n",
      "\tmoran\n",
      "\t\tcount\n"
     ]
    },
    {
     "name": "stdout",
     "output_type": "stream",
     "text": [
      "\t\tkde\n"
     ]
    },
    {
     "name": "stdout",
     "output_type": "stream",
     "text": [
      "\tgeary\n",
      "\t\tcount\n"
     ]
    },
    {
     "name": "stdout",
     "output_type": "stream",
     "text": [
      "\t\tkde\n"
     ]
    }
   ],
   "source": [
    "# areal decomposition sensitivity\n",
    "import pandas as pd\n",
    "\n",
    "import spatial_measures\n",
    "from utils import grid_from_bbox\n",
    "\n",
    "measure_methods = { 'geary' : spatial_measures.adjusted_geary, 'moran' : spatial_measures.moran_index }\n",
    "measure_pre_methods = { 'count' : spatial_measures.grid_cell_pois_count, 'kde' : spatial_measures.grid_cell_kde_average }\n",
    "measure_series = {}\n",
    "\n",
    "for city_ref in city_refs:\n",
    "    print(city_ref)\n",
    "    activity_step_kde = activity_step_kdes[city_ref]\n",
    "    bbox = bboxes[city_ref]\n",
    "    pois = poiss[city_ref]\n",
    "    city_measures = {}\n",
    "    for measure_key, measure_method in measure_methods.items():\n",
    "        print('\\t' + measure_key)\n",
    "        measure_ser = {}\n",
    "        for pre_key, pre_method in measure_pre_methods.items():\n",
    "            print('\\t\\t' + pre_key)\n",
    "            pre_ser = []\n",
    "            for step in steps:\n",
    "                xx, yy = grid_from_bbox(bbox, step)\n",
    "                if pre_key == 'count':\n",
    "                    ff = pre_method(pois, xx, yy)\n",
    "                else:\n",
    "                    ff = pre_method(activity_step_kde[step].values)\n",
    "                pre_ser.append(measure_method(ff, xx, yy))\n",
    "            measure_ser[pre_key] = pd.Series(pre_ser, index=steps)\n",
    "        city_measures[measure_key] = measure_ser\n",
    "    measure_series[city_ref] = city_measures"
   ]
  },
  {
   "cell_type": "code",
   "execution_count": 67,
   "metadata": {
    "autoscroll": "json-false",
    "collapsed": false,
    "ein.tags": [
     "worksheet-0"
    ]
   },
   "outputs": [],
   "source": [
    "import pickle\n",
    "with open('measure_series.p', 'w') as f:\n",
    "    pickle.dump(measure_series, f)"
   ]
  },
  {
   "cell_type": "code",
   "execution_count": 74,
   "metadata": {
    "autoscroll": "json-false",
    "collapsed": false,
    "ein.tags": [
     "worksheet-0"
    ]
   },
   "outputs": [],
   "source": [
    "import matplotlib.pyplot as plt\n",
    "import matplotlib.cm as cm\n",
    "\n",
    "n_cities = len(city_refs)\n",
    "n_measures = len(measure_methods)\n",
    "\n",
    "pre_colors = cm.jet_r(np.linspace(0,1,len(measure_pre_methods)))\n",
    "\n",
    "%matplotlib qt\n",
    "fig, axes = plt.subplots(n_measures, n_cities, figsize=(4 * n_cities, 4 * n_measures))\n",
    "[ax.set_title(city_ref) for city_ref, ax in zip(city_refs, axes[0])]\n",
    "[axs[0].set_ylabel(measure_key, rotation=90) for measure_key, axs in zip(measure_methods.keys(), axes)]\n",
    "for measure_key, axs in zip(measure_methods.keys(), axes):\n",
    "    for city_ref, ax in zip(city_refs, axs):\n",
    "        city_sample_n = [activity_step_kdes[city_ref][step].size for step in steps]\n",
    "        city_measure = measure_series[city_ref][measure_key]\n",
    "        for i, pre_key in enumerate(measure_pre_methods.keys()):\n",
    "            ax.plot(city_sample_n, city_measure[pre_key], color=pre_colors[i], label=pre_key)\n",
    "            ax.set_xlabel('n_samples')\n",
    "\n",
    "# TODO: add legend\n",
    "# fig.legend(ax.legend())\n",
    "# fig.legend(ax.get_legend())                \n",
    "plt.show()"
   ]
  },
  {
   "cell_type": "code",
   "execution_count": 44,
   "metadata": {
    "autoscroll": "json-false",
    "collapsed": false,
    "ein.tags": [
     "worksheet-0"
    ]
   },
   "outputs": [],
   "source": [
    "var_count = []\n",
    "var_kde = []\n",
    "for city_ref in city_refs:\n",
    "    city_measures = measure_series[city_ref]\n",
    "    for measure_key in measure_methods.keys():\n",
    "        city_measure = city_measures[measure_key]\n",
    "        var_count.append(city_measure['count'].std())\n",
    "        var_kde.append(city_measure['kde'].std())"
   ]
  },
  {
   "cell_type": "code",
   "execution_count": 47,
   "metadata": {
    "autoscroll": "json-false",
    "collapsed": false,
    "ein.tags": [
     "worksheet-0"
    ]
   },
   "outputs": [
    {
     "name": "stdout",
     "output_type": "stream",
     "text": [
      "(0.0038163100306629512, 0.007889412375993091)\n",
      "(0.0074527857910535091, 0.0078554827274432849)\n",
      "(0.0052087750913553865, 0.0025161993363897817)\n",
      "(0.0037812931885931799, 0.0027445707893173888)\n",
      "(0.0056787827710771928, 0.0243501755024794)\n",
      "(0.035021009477606481, 0.017649629791423389)\n",
      "(0.0075803153709257222, 0.0049404041596745269)\n",
      "(0.012179990510114, 0.0035865247549372883)\n"
     ]
    }
   ],
   "source": [
    "for var_c, var_k in zip(var_count, var_kde):\n",
    "    print(var_c, var_k)"
   ]
  },
  {
   "cell_type": "code",
   "execution_count": 304,
   "metadata": {
    "autoscroll": "json-false",
    "collapsed": false,
    "ein.tags": [
     "worksheet-0"
    ]
   },
   "outputs": [
    {
     "data": {
      "image/png": "[encoded data removed]",
      "text/plain": [
       "<matplotlib.figure.Figure at 0x7f1ab304f190>"
      ]
     },
     "metadata": {},
     "output_type": "display_data"
    }
   ],
   "source": [
    "import seaborn as sns\n",
    "\n",
    "shape = xx.shape[0]-1, xx.shape[1]-1\n",
    "count_mat = spatial_measures.grid_cell_pois_count(pois, xx, yy).reshape(shape)\n",
    "kde_mat = spatial_measures.grid_cell_kde_average(f).reshape(shape)\n",
    "\n",
    "%matplotlib inline\n",
    "hm_kwargs = {'cmap': sns.diverging_palette(210, 30, s=90, sep=20, as_cmap=True), 'xticklabels': False, 'yticklabels': False}\n",
    "fig, axes = plt.subplots(1,3, figsize=(15, 4))\n",
    "axes[0].set_title('pois scatter')\n",
    "sns.regplot('lon', 'lat', data=pois, ax=axes[0], fit_reg=False)\n",
    "axes[0].xaxis.set_ticklabels([])\n",
    "axes[0].yaxis.set_ticklabels([])\n",
    "\n",
    "for ax, title, mat in zip(axes[1:], ['grid cell count', 'grid kde avg'], map(np.flipud, [count_mat, kde_mat])):\n",
    "    ax.set_title(title)\n",
    "    sns.heatmap(mat, ax=ax, **hm_kwargs)\n",
    "    ax.set_xlabel('lat')\n",
    "    ax.set_ylabel('lon')\n",
    "\n",
    "\n",
    "plt.show()"
   ]
  }
 ],
 "metadata": {
  "kernelspec": {
   "display_name": "Python 2",
   "name": "python2"
  },
  "name": "measures_maup.ipynb"
 },
 "nbformat": 4,
 "nbformat_minor": 0
}
