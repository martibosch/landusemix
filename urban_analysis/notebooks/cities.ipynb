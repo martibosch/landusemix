{
 "cells": [
  {
   "cell_type": "code",
   "execution_count": null,
   "metadata": {
    "autoscroll": "json-false",
    "collapsed": false,
    "ein.tags": [
     "worksheet-0"
    ]
   },
   "outputs": [],
   "source": [
    "# automatically update imports\n",
    "%load_ext autoreload\n",
    "%autoreload 2\n",
    "\n",
    "# For graphs\n",
    "%matplotlib inline\n",
    "\n",
    "# snippet for relative imports\n",
    "import os\n",
    "import sys\n",
    "module_path = os.path.abspath(os.path.join('..'))\n",
    "if module_path not in sys.path:\n",
    "    sys.path.append(module_path)\n",
    "    \n",
    "from analysis import Analysis"
   ]
  },
  {
   "cell_type": "code",
   "execution_count": null,
   "metadata": {
    "collapsed": false
   },
   "outputs": [
    {
     "name": "stdout",
     "output_type": "stream",
     "text": [
      "('Bounding box:', [32.8440193, -85.38572779999998, 34.61791782630499, -83.26932014090595])\n",
      "Querying locally for `['pois']`\n",
      "Found ['pois'] stored locally\n",
      "('Time POIs:', 0.2581169605255127)\n",
      "Activities\n",
      "47040\n",
      "Residential\n",
      "267938\n",
      "Total\n",
      "314978\n",
      "Querying locally for `['activity_100', 'residential_100']`\n",
      "`['activity_100', 'residential_100']` is/are not stored locally. Determining it/them through `get_grid_all_kde` method\n"
     ]
    }
   ],
   "source": [
    "import ieee_bigdata\n",
    "\n",
    "#city_ref = 'grenoble_france'\n",
    "city_ref = 'atlanta_georgia'\n",
    "atlanta_georgia_bbox = [ 33.5, -85, 34.4, -83.75 ]\n",
    "grid_step = 100\n",
    "ieee_bigdata.processCompleteCity(city_ref, grid_step, [0.1,0.1], bbox = atlanta_georgia_bbox)"
   ]
  },
  {
   "cell_type": "code",
   "execution_count": null,
   "metadata": {
    "collapsed": true
   },
   "outputs": [],
   "source": [
    "quit()"
   ]
  },
  {
   "cell_type": "code",
   "execution_count": null,
   "metadata": {
    "collapsed": false,
    "scrolled": true
   },
   "outputs": [],
   "source": [
    "# Gpci cities with its corresponding countries\n",
    "cities = [ 'Amsterdam','Bangkok','Barcelona','Beijing','Berlin','Boston','Brussels','Cairo','Chicago','Copenhagen','Frankfurt','Fukuoka','Geneva','Hong Kong','Istanbul','Kuala Lumpur','London','Los Angeles','Madrid','Mexico City','Milan','Moscow','Mumbai','New York','Osaka','Paris','San Francisco','Sao Paulo','Seoul','Shanghai','Singapore','Stockholm','Sydney','Taipei','Tokyo','Toronto','Vancouver','Vienna','Dc-Baltimore','Zurich' ]\n",
    "countries = [ 'netherlands','thailand','spain','china','germany','massachusetts','belgium','egypt','illinois','denmark','germany','japan','switzerland','china','turkey','malaysia','england','california','spain','mexico','italy','russia','india','new-york','japan','france','california','brazil','south-korea','china','','sweden','australia','city_taiwan','japan','canada','canada','austria','maryland','switzerland' ]\n",
    "cities_countries = []\n",
    "\n",
    "# Create cities_countries\n",
    "for i in range(len(cities)):\n",
    "    # Composed name corresponding to metro extracts mapzen. Replace blank space for dash. Lower-case names\n",
    "    city_country = cities[i].replace(' ','-').lower() + \"_\" + countries[i]\n",
    "    # If no country is provided, remove slash\n",
    "    if (city_country[len(city_country)-1] == \"_\"):\n",
    "        city_country = city_country[:-1]    \n",
    "    # Append\n",
    "    cities_countries.append(city_country)\n",
    "\n",
    "citiesFolder = 'cities/'\n",
    "#TODO: Set file of population count file\n",
    "#popu_count_file = \"/home/lgervasoni/gpw-v4-population-count-adjusted-to-2015-unwpp-country-totals-2000/gpw-v4-population-count-adjusted-to-2015-unwpp-country-totals_2000.tif\"\n"
   ]
  },
  {
   "cell_type": "code",
   "execution_count": null,
   "metadata": {
    "collapsed": false
   },
   "outputs": [],
   "source": [
    "cities_countries_US = [\n",
    "# Sprawling:\n",
    "'las-vegas_nevada',\n",
    "'kansas-city-lawrence-topeka_kansas',\n",
    "'dc-baltimore_maryland',\n",
    "'detroit_michigan',\n",
    "'atlanta_georgia',\n",
    "'dallas_texas',\n",
    "'houston_texas',\n",
    "'los-angeles_california',\n",
    "'nashville_tennessee',\n",
    "\n",
    "# Compact:\n",
    "'new-york_new-york',\n",
    "'san-francisco_california',\n",
    "'miami_florida',\n",
    "    \n",
    "# Additional\n",
    "'boston_massachusetts',\n",
    "'austin_texas'\n",
    "]\n"
   ]
  },
  {
   "cell_type": "code",
   "execution_count": null,
   "metadata": {
    "collapsed": false
   },
   "outputs": [],
   "source": [
    "from analysis import Analysis\n",
    "analysis_gpci = []\n",
    "\n",
    "#for i in cities_countries:\n",
    "for i in cities_countries_US:\n",
    "    print(i)\n",
    "    analysis_gpci.append(Analysis(i, pois_shp_path = citiesFolder+i+\"/full_uses.shp\", grid_step=100))   "
   ]
  },
  {
   "cell_type": "code",
   "execution_count": null,
   "metadata": {
    "collapsed": false,
    "scrolled": false
   },
   "outputs": [],
   "source": [
    "# Compute pois for all cities\n",
    "for i in analysis_gpci:\n",
    "    print(i.city_ref)\n",
    "    i.pois\n",
    "    i.scatter_pois(overlap = False)"
   ]
  },
  {
   "cell_type": "code",
   "execution_count": null,
   "metadata": {
    "collapsed": false
   },
   "outputs": [],
   "source": [
    "import plots\n",
    "figsize = (12,6)\n",
    "\n",
    "for i in analysis_gpci:\n",
    "    if (i=='las-vegas_nevada' or i=='kansas-city-lawrence-topeka_kansas' or i=='detroit_michigan' or i=='nashville_tennessee'): continue\n",
    "    print(i.city_ref)\n",
    "    \n",
    "    xx, yy = i.grid\n",
    "    #plots.plot_(xx,yy,city.f_kde_act,'KDE: Activity', figsize)\n",
    "    plots.plot_contour(xx,yy,i.f_kde_act,\"KDE: Activity\")\n",
    "    #plots.plot_(xx,yy,city.f_kde_res,'KDE: Residential', figsize)\n",
    "    plots.plot_contour(xx,yy,i.f_kde_res,\"KDE: Residential\")"
   ]
  }
 ],
 "metadata": {
  "kernelspec": {
   "display_name": "Python 2",
   "language": "python",
   "name": "python2"
  },
  "language_info": {
   "codemirror_mode": {
    "name": "ipython",
    "version": 2
   },
   "file_extension": ".py",
   "mimetype": "text/x-python",
   "name": "python",
   "nbconvert_exporter": "python",
   "pygments_lexer": "ipython2",
   "version": "2.7.12"
  },
  "name": "grenoble.ipynb"
 },
 "nbformat": 4,
 "nbformat_minor": 0
}
