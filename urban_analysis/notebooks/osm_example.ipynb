{
 "cells": [
  {
   "cell_type": "code",
   "execution_count": 1,
   "metadata": {
    "autoscroll": "json-false",
    "collapsed": false,
    "ein.tags": [
     "worksheet-0"
    ]
   },
   "outputs": [
    {
     "name": "stderr",
     "output_type": "stream",
     "text": [
      "/home/lgervasoni/anaconda2/envs/urbansprawl/lib/python2.7/site-packages/matplotlib/font_manager.py:273: UserWarning: Matplotlib is building the font cache using fc-list. This may take a moment.\n",
      "  warnings.warn('Matplotlib is building the font cache using fc-list. This may take a moment.')\n"
     ]
    }
   ],
   "source": [
    "# automatically update imports\n",
    "%load_ext autoreload\n",
    "%autoreload 2\n",
    "\n",
    "# For graphs\n",
    "%matplotlib inline\n",
    "\n",
    "# snippet for relative imports\n",
    "import os\n",
    "import sys\n",
    "module_path = os.path.abspath(os.path.join('..'))\n",
    "if module_path not in sys.path:\n",
    "    sys.path.append(module_path)"
   ]
  },
  {
   "cell_type": "code",
   "execution_count": 2,
   "metadata": {
    "autoscroll": "json-false",
    "collapsed": false,
    "ein.tags": [
     "worksheet-0"
    ]
   },
   "outputs": [
    {
     "name": "stdout",
     "output_type": "stream",
     "text": [
      "Querying locally for `['osm_pois']`\n",
      "`['osm_pois']` is/are not stored locally. Determining it/them through `pois_from_bbox` method\n",
      "Saving data for `['osm_pois']` at `/home/lgervasoni/NEW_GIT/urbansprawl/urban_analysis/hdfs_store/sant_feliu.h5`\n",
      "The data has been stored locally with success\n",
      "Querying locally for `['activities', 'residential', 'total']`\n",
      "`['activities', 'residential', 'total']` is/are not stored locally. Determining it/them through `get_grid_all_kde` method\n",
      "Saving data for `['activities', 'residential', 'total']` at `/home/lgervasoni/NEW_GIT/urbansprawl/urban_analysis/hdfs_store/sant_feliu.h5`\n",
      "The data has been stored locally with success\n"
     ]
    }
   ],
   "source": [
    "import loaders\n",
    "\n",
    "city_ref_sf = 'sant_feliu'\n",
    "bbox_sf = [41.3700, 2.0203, 41.3973, 2.0774]\n",
    "pois_df_sf = loaders.load_osm_pois(city_ref_sf, bbox_sf)\n",
    "categories_kde_dict_sf = loaders.load_grid_kde(city_ref_sf, pois_df_sf, bbox_sf)"
   ]
  },
  {
   "cell_type": "code",
   "execution_count": 3,
   "metadata": {
    "autoscroll": "json-false",
    "collapsed": false,
    "ein.tags": [
     "worksheet-0"
    ]
   },
   "outputs": [
    {
     "name": "stdout",
     "output_type": "stream",
     "text": [
      "Sant Feliu: I = 0.455458, C = 0.833938, H = 0.925703\n"
     ]
    }
   ],
   "source": [
    "import measures\n",
    "import kde\n",
    "\n",
    "xx_sf, yy_sf = kde._grid_from_bbox(bbox_sf, .0015)\n",
    "f_sf = categories_kde_dict_sf['total'].values\n",
    "\n",
    "I_sf = measures.moran_index(xx_sf, yy_sf, f_sf)\n",
    "C_sf = measures.geary_index(xx_sf, yy_sf, f_sf)\n",
    "H_sf = measures.relative_entropy(f_sf)\n",
    "\n",
    "print('Sant Feliu: I = %f, C = %f, H = %f' % (I_sf, C_sf, H_sf))"
   ]
  },
  {
   "cell_type": "code",
   "execution_count": 4,
   "metadata": {
    "autoscroll": "json-false",
    "collapsed": false,
    "ein.tags": [
     "worksheet-0"
    ]
   },
   "outputs": [],
   "source": [
    "from plots import plot_categories_kde\n",
    "\n",
    "%matplotlib qt\n",
    "plot_categories_kde(categories_kde_dict_sf, pois_df_sf, xx_sf, yy_sf)"
   ]
  },
  {
   "cell_type": "code",
   "execution_count": null,
   "metadata": {
    "collapsed": true
   },
   "outputs": [],
   "source": []
  }
 ],
 "metadata": {
  "kernelspec": {
   "display_name": "Python 2",
   "language": "python",
   "name": "python2"
  },
  "language_info": {
   "codemirror_mode": {
    "name": "ipython",
    "version": 2
   },
   "file_extension": ".py",
   "mimetype": "text/x-python",
   "name": "python",
   "nbconvert_exporter": "python",
   "pygments_lexer": "ipython2",
   "version": "2.7.11"
  },
  "name": "osm_example.ipynb"
 },
 "nbformat": 4,
 "nbformat_minor": 0
}
