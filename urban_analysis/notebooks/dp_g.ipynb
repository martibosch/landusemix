{
 "cells": [
  {
   "cell_type": "code",
   "execution_count": 1,
   "metadata": {
    "autoscroll": "json-false",
    "collapsed": false,
    "ein.tags": [
     "worksheet-0"
    ]
   },
   "outputs": [],
   "source": [
    "# automatically update imports\n",
    "%load_ext autoreload\n",
    "%autoreload 2\n",
    "\n",
    "# For graphs\n",
    "%matplotlib inline\n",
    "\n",
    "# snippet for relative imports\n",
    "import os\n",
    "import sys\n",
    "module_path = os.path.abspath(os.path.join('..'))\n",
    "if module_path not in sys.path:\n",
    "    sys.path.append(module_path)"
   ]
  },
  {
   "cell_type": "code",
   "execution_count": 9,
   "metadata": {
    "autoscroll": "json-false",
    "collapsed": false,
    "ein.tags": [
     "worksheet-0"
    ]
   },
   "outputs": [
    {
     "name": "stdout",
     "output_type": "stream",
     "text": [
      "Saving data for `['kde_shop', 'kde_residential', 'kde_commercial/industrial', 'kde_leisure/amenity', 'kde_global']` at `/home/martibosch/urbansprawl/urban_analysis/hdfs_store/girona.h5`\n",
      "The data has been stored locally with success\n"
     ]
    },
    {
     "name": "stdout",
     "output_type": "stream",
     "text": [
      "Saving data for `['pois']` at `/home/martibosch/urbansprawl/urban_analysis/hdfs_store/girona.h5`\n",
      "The data has been stored locally with success\n",
      "Querying locally for `['kde_shop', 'kde_residential', 'kde_commercial/industrial', 'kde_leisure/amenity', 'kde_global']`\n",
      "`['kde_shop', 'kde_residential', 'kde_commercial/industrial', 'kde_leisure/amenity', 'kde_global']` is/are not stored locally. Determining it/them through `get_all_kde_dict` method\n"
     ]
    },
    {
     "name": "stdout",
     "output_type": "stream",
     "text": [
      "Saving data for `['kde_shop', 'kde_residential', 'kde_commercial/industrial', 'kde_leisure/amenity', 'kde_global']` at `/home/martibosch/urbansprawl/urban_analysis/hdfs_store/dublin_pleasanton.h5`\n",
      "The data has been stored locally with success\n",
      "Querying locally for `['pois']`\n",
      "`['pois']` is/are not stored locally. Determining it/them through `pois_from_bbox` method\n"
     ]
    },
    {
     "name": "stdout",
     "output_type": "stream",
     "text": [
      "Querying locally for `['pois']`\n",
      "Found ['pois'] stored locally\n",
      "Querying locally for `['kde_shop', 'kde_residential', 'kde_commercial/industrial', 'kde_leisure/amenity', 'kde_global']`\n",
      "`['kde_shop', 'kde_residential', 'kde_commercial/industrial', 'kde_leisure/amenity', 'kde_global']` is/are not stored locally. Determining it/them through `get_all_kde_dict` method\n"
     ]
    }
   ],
   "source": [
    "import loaders\n",
    "\n",
    "city_ref_dp = 'dublin_pleasanton'\n",
    "bbox_dp = [37.6248, -121.9603, 37.7296, -121.8202]\n",
    "pois_df_dp = loaders.load_pois(city_ref_dp, bbox_dp)\n",
    "categories_kde_dict_dp = loaders.load_grid_kde(city_ref_dp, pois_df_dp, bbox_dp)\n",
    "\n",
    "city_ref_g = 'girona'\n",
    "bbox_g = [41.9262, 2.7692, 42.0237, 2.8489]\n",
    "pois_df_g = loaders.load_pois(city_ref_g, bbox_g)\n",
    "categories_kde_dict_g = loaders.load_grid_kde(city_ref_g, pois_df_g, bbox_g)"
   ]
  },
  {
   "cell_type": "code",
   "execution_count": 26,
   "metadata": {
    "autoscroll": "json-false",
    "collapsed": false,
    "ein.tags": [
     "worksheet-0"
    ]
   },
   "outputs": [],
   "source": [
    "import measures\n",
    "import kde\n",
    "\n",
    "xx_dp, yy_dp = kde._grid_from_bbox(bbox_dp, .0015)\n",
    "xx_g, yy_g = kde._grid_from_bbox(bbox_g, .0015)\n",
    "\n",
    "f_dp = categories_kde_dict_dp['kde_global'].values\n",
    "f_g = categories_kde_dict_g['kde_global'].values\n",
    "\n",
    "I_dp = measures.moran_index(xx_dp, yy_dp, f_dp)\n",
    "I_g = measures.moran_index(xx_g, yy_g, f_g)\n",
    "\n",
    "C_dp = measures.geary_index(xx_dp, yy_dp, f_dp)\n",
    "C_g = measures.geary_index(xx_g, yy_g, f_g)"
   ]
  },
  {
   "cell_type": "code",
   "execution_count": 27,
   "metadata": {
    "autoscroll": "json-false",
    "collapsed": false,
    "ein.tags": [
     "worksheet-0"
    ]
   },
   "outputs": [
    {
     "name": "stdout",
     "output_type": "stream",
     "text": [
      "Dublin-Pleasanton: I = 0.203235, C = 0.847386\n",
      "Girona: I = 0.113574, C = 1.041552\n"
     ]
    }
   ],
   "source": [
    "print('Dublin-Pleasanton: I = %f, C = %f' % (I_dp, C_dp))\n",
    "print('Girona: I = %f, C = %f' % (I_g, C_g))"
   ]
  },
  {
   "cell_type": "code",
   "execution_count": 73,
   "metadata": {
    "autoscroll": "json-false",
    "collapsed": false,
    "ein.tags": [
     "worksheet-0"
    ]
   },
   "outputs": [
    {
     "data": {
      "text/plain": [
       "0.90235670672642254"
      ]
     },
     "execution_count": 73,
     "metadata": {},
     "output_type": "execute_result"
    }
   ],
   "source": [
    "measures.relative_entropy(f_dp)"
   ]
  },
  {
   "cell_type": "code",
   "execution_count": 74,
   "metadata": {
    "autoscroll": "json-false",
    "collapsed": false,
    "ein.tags": [
     "worksheet-0"
    ]
   },
   "outputs": [
    {
     "data": {
      "text/plain": [
       "0.68305273991863913"
      ]
     },
     "execution_count": 74,
     "metadata": {},
     "output_type": "execute_result"
    }
   ],
   "source": [
    "measures.relative_entropy(f_g)"
   ]
  },
  {
   "cell_type": "code",
   "execution_count": 16,
   "metadata": {
    "autoscroll": "json-false",
    "collapsed": false,
    "ein.tags": [
     "worksheet-0"
    ]
   },
   "outputs": [],
   "source": [
    "import matplotlib.cm as cm\n",
    "import matplotlib.pyplot as plt\n",
    "from mpl_toolkits.mplot3d import Axes3D\n",
    "\n",
    "def plot_categories_kde(categories_kde_dict, pois_df, xx, yy):\n",
    "    n_rows = len(categories_kde_dict)\n",
    "    base_figsize = 8\n",
    "\n",
    "    fig = plt.figure(figsize=(8, 8 * n_rows))\n",
    "    i = 1\n",
    "    for label in ['amenity', 'shop', 'global']:\n",
    "        f = categories_kde_dict[kde._CATEGORY_MAPPING[label]] # TODO: don't use the mapping!\n",
    "        if label == 'global':\n",
    "            category_pois = pois_df\n",
    "        else:\n",
    "            category_pois = pois_df[pois_df['key'] == label]\n",
    "        ax1 = fig.add_subplot(n_rows, 2, i)\n",
    "        ax2 = fig.add_subplot(n_rows, 2, i+1, projection='3d')\n",
    "        ax1.scatter(category_pois['lon'], category_pois['lat'])\n",
    "        ax1.set_ylabel(label, rotation=90)\n",
    "        ax2.plot_surface(xx, yy, f, cmap=cm.RdYlBu)\n",
    "        i += 2\n",
    "        ax2.set_xlabel('lon', labelpad=-10)\n",
    "        ax2.set_ylabel('lat', labelpad=-10)\n",
    "        ax2.zaxis.set_rotate_label(False) # workaround\n",
    "        ax2.set_zlabel(r'$f_c$', rotation=0, labelpad=-15)\n",
    "        ax2.w_xaxis.set_ticklabels([])\n",
    "        ax2.w_yaxis.set_ticklabels([])\n",
    "        ax2.w_zaxis.set_ticklabels([])\n",
    "    plt.show()"
   ]
  },
  {
   "cell_type": "code",
   "execution_count": 31,
   "metadata": {
    "autoscroll": "json-false",
    "collapsed": false,
    "ein.tags": [
     "worksheet-0"
    ]
   },
   "outputs": [],
   "source": [
    "%matplotlib qt\n",
    "plot_categories_kde(categories_kde_dict_dp, pois_df_dp, xx_dp, yy_dp)\n",
    "plot_categories_kde(categories_kde_dict_g, pois_df_g, xx_g, yy_g)"
   ]
  }
 ],
 "metadata": {
  "kernelspec": {
   "display_name": "Python 2",
   "name": "python2"
  },
  "name": "dp_g.ipynb"
 },
 "nbformat": 4,
 "nbformat_minor": 0
}
