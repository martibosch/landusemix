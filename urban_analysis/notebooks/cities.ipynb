{
 "cells": [
  {
   "cell_type": "code",
   "execution_count": 3,
   "metadata": {
    "autoscroll": "json-false",
    "collapsed": false,
    "ein.tags": [
     "worksheet-0"
    ]
   },
   "outputs": [
    {
     "name": "stdout",
     "output_type": "stream",
     "text": [
      "The autoreload extension is already loaded. To reload it, use:\n",
      "  %reload_ext autoreload\n"
     ]
    }
   ],
   "source": [
    "# automatically update imports\n",
    "%load_ext autoreload\n",
    "%autoreload 2\n",
    "\n",
    "# For graphs\n",
    "%matplotlib inline\n",
    "\n",
    "# snippet for relative imports\n",
    "import os\n",
    "import sys\n",
    "module_path = os.path.abspath(os.path.join('..'))\n",
    "if module_path not in sys.path:\n",
    "    sys.path.append(module_path)"
   ]
  },
  {
   "cell_type": "code",
   "execution_count": 4,
   "metadata": {
    "collapsed": false,
    "scrolled": true
   },
   "outputs": [
    {
     "name": "stdout",
     "output_type": "stream",
     "text": [
      "('Downloaded and unzipped:', 'https://s3.amazonaws.com/metro-extracts.mapzen.com/amsterdam_netherlands.osm2pgsql-shapefiles.zip')\n",
      "('Downloaded and unzipped:', 'https://s3.amazonaws.com/metro-extracts.mapzen.com/bangkok_thailand.osm2pgsql-shapefiles.zip')\n",
      "('Downloaded and unzipped:', 'https://s3.amazonaws.com/metro-extracts.mapzen.com/barcelona_spain.osm2pgsql-shapefiles.zip')\n",
      "('Downloaded and unzipped:', 'https://s3.amazonaws.com/metro-extracts.mapzen.com/beijing_china.osm2pgsql-shapefiles.zip')\n",
      "('Downloaded and unzipped:', 'https://s3.amazonaws.com/metro-extracts.mapzen.com/berlin_germany.osm2pgsql-shapefiles.zip')\n",
      "('Downloaded and unzipped:', 'https://s3.amazonaws.com/metro-extracts.mapzen.com/boston_massachusetts.osm2pgsql-shapefiles.zip')\n",
      "('Downloaded and unzipped:', 'https://s3.amazonaws.com/metro-extracts.mapzen.com/brussels_belgium.osm2pgsql-shapefiles.zip')\n",
      "('Downloaded and unzipped:', 'https://s3.amazonaws.com/metro-extracts.mapzen.com/cairo_egypt.osm2pgsql-shapefiles.zip')\n",
      "('Downloaded and unzipped:', 'https://s3.amazonaws.com/metro-extracts.mapzen.com/chicago_illinois.osm2pgsql-shapefiles.zip')\n",
      "('Downloaded and unzipped:', 'https://s3.amazonaws.com/metro-extracts.mapzen.com/copenhagen_denmark.osm2pgsql-shapefiles.zip')\n",
      "('Downloaded and unzipped:', 'https://s3.amazonaws.com/metro-extracts.mapzen.com/frankfurt_germany.osm2pgsql-shapefiles.zip')\n",
      "('Downloaded and unzipped:', 'https://s3.amazonaws.com/metro-extracts.mapzen.com/fukuoka_japan.osm2pgsql-shapefiles.zip')\n",
      "('Downloaded and unzipped:', 'https://s3.amazonaws.com/metro-extracts.mapzen.com/geneva_switzerland.osm2pgsql-shapefiles.zip')\n",
      "('Downloaded and unzipped:', 'https://s3.amazonaws.com/metro-extracts.mapzen.com/hong-kong_china.osm2pgsql-shapefiles.zip')\n",
      "('Downloaded and unzipped:', 'https://s3.amazonaws.com/metro-extracts.mapzen.com/istanbul_turkey.osm2pgsql-shapefiles.zip')\n",
      "('Downloaded and unzipped:', 'https://s3.amazonaws.com/metro-extracts.mapzen.com/kuala-lumpur_malaysia.osm2pgsql-shapefiles.zip')\n",
      "('Downloaded and unzipped:', 'https://s3.amazonaws.com/metro-extracts.mapzen.com/london_england.osm2pgsql-shapefiles.zip')\n",
      "('Downloaded and unzipped:', 'https://s3.amazonaws.com/metro-extracts.mapzen.com/los-angeles_california.osm2pgsql-shapefiles.zip')\n",
      "('Downloaded and unzipped:', 'https://s3.amazonaws.com/metro-extracts.mapzen.com/madrid_spain.osm2pgsql-shapefiles.zip')\n",
      "('Downloaded and unzipped:', 'https://s3.amazonaws.com/metro-extracts.mapzen.com/mexico-city_mexico.osm2pgsql-shapefiles.zip')\n",
      "('Downloaded and unzipped:', 'https://s3.amazonaws.com/metro-extracts.mapzen.com/milan_italy.osm2pgsql-shapefiles.zip')\n",
      "('Downloaded and unzipped:', 'https://s3.amazonaws.com/metro-extracts.mapzen.com/moscow_russia.osm2pgsql-shapefiles.zip')\n",
      "('Downloaded and unzipped:', 'https://s3.amazonaws.com/metro-extracts.mapzen.com/mumbai_india.osm2pgsql-shapefiles.zip')\n",
      "('Downloaded and unzipped:', 'https://s3.amazonaws.com/metro-extracts.mapzen.com/new-york_new-york.osm2pgsql-shapefiles.zip')\n",
      "('Downloaded and unzipped:', 'https://s3.amazonaws.com/metro-extracts.mapzen.com/osaka_japan.osm2pgsql-shapefiles.zip')\n",
      "('Downloaded and unzipped:', 'https://s3.amazonaws.com/metro-extracts.mapzen.com/paris_france.osm2pgsql-shapefiles.zip')\n",
      "('Downloaded and unzipped:', 'https://s3.amazonaws.com/metro-extracts.mapzen.com/san-francisco_california.osm2pgsql-shapefiles.zip')\n",
      "('Downloaded and unzipped:', 'https://s3.amazonaws.com/metro-extracts.mapzen.com/sao-paulo_brazil.osm2pgsql-shapefiles.zip')\n",
      "('Downloaded and unzipped:', 'https://s3.amazonaws.com/metro-extracts.mapzen.com/seoul_south-korea.osm2pgsql-shapefiles.zip')\n",
      "('Downloaded and unzipped:', 'https://s3.amazonaws.com/metro-extracts.mapzen.com/shanghai_china.osm2pgsql-shapefiles.zip')\n",
      "('Downloaded and unzipped:', 'https://s3.amazonaws.com/metro-extracts.mapzen.com/singapore.osm2pgsql-shapefiles.zip')\n",
      "('Downloaded and unzipped:', 'https://s3.amazonaws.com/metro-extracts.mapzen.com/stockholm_sweden.osm2pgsql-shapefiles.zip')\n",
      "('Downloaded and unzipped:', 'https://s3.amazonaws.com/metro-extracts.mapzen.com/sydney_australia.osm2pgsql-shapefiles.zip')\n",
      "('Downloaded and unzipped:', 'https://s3.amazonaws.com/metro-extracts.mapzen.com/taipei_city_taiwan.osm2pgsql-shapefiles.zip')\n",
      "('Downloaded and unzipped:', 'https://s3.amazonaws.com/metro-extracts.mapzen.com/tokyo_japan.osm2pgsql-shapefiles.zip')\n",
      "('Downloaded and unzipped:', 'https://s3.amazonaws.com/metro-extracts.mapzen.com/toronto_canada.osm2pgsql-shapefiles.zip')\n",
      "('Downloaded and unzipped:', 'https://s3.amazonaws.com/metro-extracts.mapzen.com/vancouver_canada.osm2pgsql-shapefiles.zip')\n",
      "('Downloaded and unzipped:', 'https://s3.amazonaws.com/metro-extracts.mapzen.com/vienna_austria.osm2pgsql-shapefiles.zip')\n",
      "('Downloaded and unzipped:', 'https://s3.amazonaws.com/metro-extracts.mapzen.com/dc-baltimore_maryland.osm2pgsql-shapefiles.zip')\n",
      "('Downloaded and unzipped:', 'https://s3.amazonaws.com/metro-extracts.mapzen.com/zurich_switzerland.osm2pgsql-shapefiles.zip')\n"
     ]
    }
   ],
   "source": [
    "# Gpci cities with its corresponding countries\n",
    "cities = [ 'Amsterdam','Bangkok','Barcelona','Beijing','Berlin','Boston','Brussels','Cairo','Chicago','Copenhagen','Frankfurt','Fukuoka','Geneva','Hong Kong','Istanbul','Kuala Lumpur','London','Los Angeles','Madrid','Mexico City','Milan','Moscow','Mumbai','New York','Osaka','Paris','San Francisco','Sao Paulo','Seoul','Shanghai','Singapore','Stockholm','Sydney','Taipei','Tokyo','Toronto','Vancouver','Vienna','Dc-Baltimore','Zurich' ]\n",
    "countries = [ 'netherlands','thailand','spain','china','germany','massachusetts','belgium','egypt','illinois','denmark','germany','japan','switzerland','china','turkey','malaysia','england','california','spain','mexico','italy','russia','india','new-york','japan','france','california','brazil','south-korea','china','','sweden','australia','city_taiwan','japan','canada','canada','austria','maryland','switzerland' ]\n",
    "cities_countries = []\n",
    "\n",
    "# Create cities_countries\n",
    "for i in range(len(cities)):\n",
    "    # Replace blank space for dash. Lower-case names\n",
    "    cities[i] = cities[i].replace(' ','-').lower()\n",
    "    # Composed name corresponding to metro extracts mapzen\n",
    "    city_country = cities[i] + \"_\" + countries[i]\n",
    "    # If no country is provided, remove slash\n",
    "    if (city_country[len(city_country)-1] == \"_\"):\n",
    "        city_country = city_country[:-1]    \n",
    "    # Append\n",
    "    cities_countries.append(city_country)\n",
    "\n",
    "citiesFolder = 'cities/'\n",
    "popu_count_file = \"/home/lgervasoni/gpw-v4-population-count-adjusted-to-2015-unwpp-country-totals-2000/gpw-v4-population-count-adjusted-to-2015-unwpp-country-totals_2000.tif\"\n",
    "\n",
    "# Download from mapzen and extract\n",
    "import extract_uses.utils as utils\n",
    "utils.getCityShapefile(citiesFolder, cities_countries)"
   ]
  },
  {
   "cell_type": "code",
   "execution_count": null,
   "metadata": {
    "collapsed": false
   },
   "outputs": [],
   "source": [
    "import extract_uses.main\n",
    "import extract_uses.parameters as parameters\n",
    "\n",
    "# For each city_country: extract_uses\n",
    "#for i in range(len(cities_countries)):\n",
    "for i in range(0,1): # Test Amsterdam\n",
    "#for i in range(1,2): # Test bangkok\n",
    "    ### Set the input files\n",
    "    parameters.setInputFiles(citiesFolder, cities_countries[i], popu_count_file, numberOfCuts = 4)\n",
    "    \n",
    "    ### Process the city\n",
    "    extract_uses.main.process()"
   ]
  },
  {
   "cell_type": "code",
   "execution_count": null,
   "metadata": {
    "collapsed": false
   },
   "outputs": [],
   "source": []
  }
 ],
 "metadata": {
  "kernelspec": {
   "display_name": "Python 2",
   "language": "python",
   "name": "python2"
  },
  "language_info": {
   "codemirror_mode": {
    "name": "ipython",
    "version": 2
   },
   "file_extension": ".py",
   "mimetype": "text/x-python",
   "name": "python",
   "nbconvert_exporter": "python",
   "pygments_lexer": "ipython2",
   "version": "2.7.11"
  },
  "name": "grenoble.ipynb"
 },
 "nbformat": 4,
 "nbformat_minor": 0
}
