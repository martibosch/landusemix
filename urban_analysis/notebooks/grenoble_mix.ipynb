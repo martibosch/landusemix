{
 "cells": [
  {
   "cell_type": "code",
   "execution_count": 2,
   "metadata": {
    "autoscroll": "json-false",
    "collapsed": false,
    "ein.tags": [
     "worksheet-0"
    ]
   },
   "outputs": [
    {
     "name": "stdout",
     "output_type": "stream",
     "text": [
      "The autoreload extension is already loaded. To reload it, use:\n",
      "  %reload_ext autoreload\n"
     ]
    }
   ],
   "source": [
    "# automatically update imports\n",
    "%load_ext autoreload\n",
    "%autoreload 2\n",
    "\n",
    "# For graphs\n",
    "%matplotlib inline\n",
    "\n",
    "# snippet for relative imports\n",
    "import os\n",
    "import sys\n",
    "module_path = os.path.abspath(os.path.join('..'))\n",
    "if module_path not in sys.path:\n",
    "    sys.path.append(module_path)"
   ]
  },
  {
   "cell_type": "code",
   "execution_count": 3,
   "metadata": {
    "collapsed": false
   },
   "outputs": [
    {
     "name": "stdout",
     "output_type": "stream",
     "text": [
      "('Existing shapefile for', 'grenoble_france')\n"
     ]
    }
   ],
   "source": [
    "import extract_uses.parameters as parameters\n",
    "import extract_uses.utils as utils\n",
    "\n",
    "# City to download: Grenoble\n",
    "city_country = \"grenoble_france\"#\"grenoble_france\"\n",
    "citiesFolder = 'cities/'\n",
    "# Population count file\n",
    "popu_count_file = \"/home/lgervasoni/gpw-v4-population-count-adjusted-to-2015-unwpp-country-totals-2000/gpw-v4-population-count-adjusted-to-2015-unwpp-country-totals_2000.tif\"\n",
    "\n",
    "# Get the required cities shapefile\n",
    "utils.getCityShapefile(citiesFolder, [ city_country ])\n",
    "\n",
    "# Set input files\n",
    "parameters.setInputFiles(citiesFolder, city_country, popu_count_file, numberOfCuts = 4)\n",
    "#parameters.setInputFiles(citiesFolder, city_country, popu_count_file = None, numberOfCuts = 4)"
   ]
  },
  {
   "cell_type": "code",
   "execution_count": 5,
   "metadata": {
    "autoscroll": "json-false",
    "collapsed": false,
    "ein.tags": [
     "worksheet-0"
    ]
   },
   "outputs": [
    {
     "name": "stdout",
     "output_type": "stream",
     "text": [
      "('Folder already exists. Assumption: Already processed. Only mapping categories and exiting.', 'cities/grenoble_france/')\n",
      "Complete processing: --- 0.403701035182 minutes ---\n"
     ]
    }
   ],
   "source": [
    "import extract_uses.main\n",
    "\n",
    "extract_uses.main.process()"
   ]
  },
  {
   "cell_type": "code",
   "execution_count": null,
   "metadata": {
    "autoscroll": "json-false",
    "collapsed": false,
    "ein.tags": [
     "worksheet-0"
    ]
   },
   "outputs": [
    {
     "name": "stdout",
     "output_type": "stream",
     "text": [
      "('Bounding box:', [45.113017726416615, 5.573125356566398, 45.243980680751875, 5.9029513504478865])\n",
      "Querying locally for `['nodes', 'edges']`\n",
      "`['nodes', 'edges']` is/are not stored locally. Determining it/them through `graph_from_bbox` method\n",
      "Saving data for `['nodes', 'edges']` at `/home/lgervasoni/urbansprawl/urban_analysis/hdfs_store/grenoble_france.h5`\n",
      "The data has been stored locally with success\n",
      "Querying locally for `['pois']`\n",
      "`['pois']` is/are not stored locally. Determining it/them through `get_extracted_osm_points` method\n",
      "Saving data for `['pois']` at `/home/lgervasoni/urbansprawl/urban_analysis/hdfs_store/grenoble_france.h5`\n",
      "The data has been stored locally with success\n",
      "Querying locally for `['graph_centrality']`\n",
      "`['graph_centrality']` is/are not stored locally. Determining it/them through `get_centrality_df` method\n"
     ]
    }
   ],
   "source": [
    "import loaders\n",
    "import extract_uses.utils as utils\n",
    "\n",
    "uses_shp = citiesFolder+city_country+\"/full_uses.shp\"\n",
    "bbox = utils.getBoundingBox(uses_shp)\n",
    "\n",
    "geo_graph = loaders.load_graph(city_country, bbox)\n",
    "pois_df = loaders.load_pois(city_country, uses_shp)\n",
    "centrality_df = loaders.load_graph_centrality(city_country, geo_graph)\n",
    "kde_df = loaders.load_graph_kde(city_country, geo_graph, pois_df)\n",
    "\n",
    "# Grid KDE\n",
    "categories_kde_dict = loaders.load_grid_kde(city_ref, all_pois_df)"
   ]
  },
  {
   "cell_type": "code",
   "execution_count": 6,
   "metadata": {
    "autoscroll": "json-false",
    "collapsed": false,
    "ein.tags": [
     "worksheet-0"
    ]
   },
   "outputs": [],
   "source": [
    "import kde\n",
    "\n",
    "categories_kde = kde.get_categories_kde(pois_df, bbox)"
   ]
  },
  {
   "cell_type": "code",
   "execution_count": 118,
   "metadata": {
    "autoscroll": "json-false",
    "collapsed": false,
    "ein.tags": [
     "worksheet-0"
    ]
   },
   "outputs": [
    {
     "data": {
      "text/plain": [
       "[u'shop', u'residential', u'commercial/industrial', u'leisure/amenity']"
      ]
     },
     "execution_count": 118,
     "metadata": {},
     "output_type": "execute_result"
    }
   ],
   "source": [
    "categories_kde.keys()"
   ]
  },
  {
   "cell_type": "code",
   "execution_count": 106,
   "metadata": {
    "autoscroll": "json-false",
    "collapsed": false,
    "ein.tags": [
     "worksheet-0"
    ]
   },
   "outputs": [],
   "source": [
    "keys = list(map(lambda cat : 'kde_' + str(cat), categories_kde.keys()))"
   ]
  },
  {
   "cell_type": "code",
   "execution_count": 108,
   "metadata": {
    "autoscroll": "json-false",
    "collapsed": false,
    "ein.tags": [
     "worksheet-0"
    ]
   },
   "outputs": [],
   "source": [
    "dfs = list(map(pd.DataFrame, categories_kde.values()))"
   ]
  },
  {
   "cell_type": "code",
   "execution_count": 77,
   "metadata": {
    "autoscroll": "json-false",
    "collapsed": false,
    "ein.tags": [
     "worksheet-0"
    ]
   },
   "outputs": [],
   "source": [
    "ser = pd.Series(categories_kde.values(), index=list(map(str, categories_kde.keys())))"
   ]
  },
  {
   "cell_type": "code",
   "execution_count": 116,
   "metadata": {
    "autoscroll": "json-false",
    "collapsed": false,
    "ein.tags": [
     "worksheet-0"
    ]
   },
   "outputs": [],
   "source": [
    "print('Keys:',keys)\n",
    "print('Dfs:',dfs)\n",
    "\n",
    "with pd.HDFStore(loaders._generate_file_path(city_ref), 'a') as store:\n",
    "    for key, df in zip(keys, dfs):\n",
    "        store.put(key, df, format='table')"
   ]
  },
  {
   "cell_type": "code",
   "execution_count": 19,
   "metadata": {
    "autoscroll": "json-false",
    "collapsed": false,
    "ein.tags": [
     "worksheet-0"
    ]
   },
   "outputs": [],
   "source": [
    "import pickle\n",
    "# TODO: create a `loaders` method for `category_kde`\n",
    "with open('categories_kde.p', 'wb') as f:\n",
    "    pickle.dump(categories_kde, f)"
   ]
  },
  {
   "cell_type": "code",
   "execution_count": 49,
   "metadata": {
    "autoscroll": "json-false",
    "collapsed": false,
    "ein.tags": [
     "worksheet-0"
    ]
   },
   "outputs": [],
   "source": [
    "import numpy as np\n",
    "\n",
    "phi = 0\n",
    "categories_list = categories_kde.items()\n",
    "# let: n be the total number of categories; l be the total number of grid (lattice) points\n",
    "n = len(categories_list[0][0])\n",
    "l = len(categories_list[0][1])**2 # TODO: more `correct` GRIDSIZE handling\n",
    "# [[phi += np.sum(vi - vj) for j, (kj, vj) in enumerate(categories_list[i:])] for i, (ki, vi) in enumerate(categories_list)]\n",
    "\n",
    "for i, (ki, vi) in enumerate(categories_list):\n",
    "    for j, (kj, vj) in enumerate(categories_list[i:]):\n",
    "        phi += np.sum(vi - vj) # here i would divide it by l, but computationally i can do that at the end\n",
    "\n",
    "phi_mix = phi / l # (l * n * (n-1) * .5)        "
   ]
  },
  {
   "cell_type": "code",
   "execution_count": 50,
   "metadata": {
    "autoscroll": "json-false",
    "collapsed": false,
    "ein.tags": [
     "worksheet-0"
    ]
   },
   "outputs": [
    {
     "data": {
      "text/plain": [
       "1.1384253034912237"
      ]
     },
     "execution_count": 50,
     "metadata": {},
     "output_type": "execute_result"
    }
   ],
   "source": [
    "phi_mix"
   ]
  },
  {
   "cell_type": "code",
   "execution_count": 53,
   "metadata": {
    "autoscroll": "json-false",
    "collapsed": false,
    "ein.tags": [
     "worksheet-0"
    ]
   },
   "outputs": [],
   "source": [
    "import matplotlib.cm as cm\n",
    "import matplotlib.pyplot as plt\n",
    "from mpl_toolkits.mplot3d import Axes3D\n",
    "\n",
    "%matplotlib qt\n",
    "n_rows = len(categories_kde)\n",
    "base_figsize = 8\n",
    "xx, yy = kde._grid_from_bbox(bbox)\n",
    "\n",
    "fig = plt.figure(figsize=(8, 8 * n_rows))\n",
    "i = 1\n",
    "for label, z in categories_kde.items():\n",
    "    category_pois = all_pois_df[all_pois_df['key'] == label]\n",
    "    ax1 = fig.add_subplot(n_rows, 2, i)\n",
    "    ax2 = fig.add_subplot(n_rows, 2, i+1, projection='3d')\n",
    "    ax1.scatter(category_pois['lon'], category_pois['lat'])\n",
    "    ax1.set_ylabel(label, rotation=90)\n",
    "    ax2.plot_surface(xx, yy, z, cmap=cm.RdYlBu)\n",
    "    i += 2\n",
    "    ax2.set_xlabel('lon', labelpad=-10)\n",
    "    ax2.set_ylabel('lat', labelpad=-10)\n",
    "    ax2.zaxis.set_rotate_label(False) # workaround\n",
    "    ax2.set_zlabel(r'$f_c$', rotation=0, labelpad=-15)\n",
    "    ax2.w_xaxis.set_ticklabels([])\n",
    "    ax2.w_yaxis.set_ticklabels([])\n",
    "    ax2.w_zaxis.set_ticklabels([])\n",
    "    \n",
    "plt.show()"
   ]
  }
 ],
 "metadata": {
  "kernelspec": {
   "display_name": "Python 2",
   "language": "python",
   "name": "python2"
  },
  "language_info": {
   "codemirror_mode": {
    "name": "ipython",
    "version": 2
   },
   "file_extension": ".py",
   "mimetype": "text/x-python",
   "name": "python",
   "nbconvert_exporter": "python",
   "pygments_lexer": "ipython2",
   "version": "2.7.11"
  },
  "name": "grenoble_mix.ipynb"
 },
 "nbformat": 4,
 "nbformat_minor": 0
}
