{
 "cells": [
  {
   "cell_type": "code",
   "execution_count": 1,
   "metadata": {
    "autoscroll": "json-false",
    "collapsed": false,
    "ein.tags": [
     "worksheet-0"
    ]
   },
   "outputs": [],
   "source": [
    "# automatically update imports\n",
    "%load_ext autoreload\n",
    "%autoreload 2\n",
    "\n",
    "# For graphs\n",
    "%matplotlib inline\n",
    "\n",
    "# snippet for relative imports\n",
    "import os\n",
    "import sys\n",
    "module_path = os.path.abspath(os.path.join('..'))\n",
    "if module_path not in sys.path:\n",
    "    sys.path.append(module_path)"
   ]
  },
  {
   "cell_type": "code",
   "execution_count": 3,
   "metadata": {
    "autoscroll": "json-false",
    "collapsed": false,
    "ein.tags": [
     "worksheet-0"
    ]
   },
   "outputs": [],
   "source": [
    "# load necessary data\n",
    "import numpy as np\n",
    "\n",
    "import osm_loader\n",
    "\n",
    "step = 0.0025\n",
    "\n",
    "city_refs = [\n",
    "    'begur',\n",
    "    'grenoble',\n",
    "    # 'san_francisco',\n",
    "    'fort_collins',\n",
    "    # 'sant_feilu',\n",
    "    # 'sierra_vista'\n",
    "]\n",
    "\n",
    "bboxes = { city_ref : bbox for city_ref, bbox in zip(city_refs, [\n",
    "    [41.9301, 3.1817, 41.9751, 3.2389],\n",
    "    [45.1334, 5.6127, 45.2345, 5.8238],\n",
    "    # [37.68, -122.5346, 37.8163, -122.3431],\n",
    "    [40.4616, -105.1783, 40.6461, -104.9716],\n",
    "    # [41.3700, 2.0203, 41.3973, 2.0774],\n",
    "    # [31.5109, -110.3800, 31.5816, -110.2052]\n",
    "]) }\n",
    "\n",
    "poiss = { city_ref : osm_loader.pois_from_bbox(bboxes[city_ref]) for city_ref in city_refs }"
   ]
  },
  {
   "cell_type": "code",
   "execution_count": 4,
   "metadata": {
    "autoscroll": "json-false",
    "collapsed": false,
    "ein.tags": [
     "worksheet-0"
    ]
   },
   "outputs": [],
   "source": [
    "# missing data sensitivity\n",
    "import kde\n",
    "\n",
    "missing_percentages = np.arange(0, .3, .05)\n",
    "\n",
    "missing_poiss = {}\n",
    "missing_kdes = {}\n",
    "for city_ref in city_refs:\n",
    "    city_pois = {}\n",
    "    city_kdes = {}\n",
    "    bbox = bboxes[city_ref]\n",
    "    pois = poiss[city_ref]\n",
    "    for missing_perc in missing_percentages:\n",
    "        pois_missing = pois.drop(np.random.choice(pois.index, int(missing_perc*len(pois))))\n",
    "        city_pois[missing_perc] = pois_missing\n",
    "        city_kdes[missing_perc] = kde.get_grid_category_kde(pois_missing, bbox, step)\n",
    "    missing_poiss[city_ref] = city_pois\n",
    "    missing_kdes[city_ref] = city_kdes "
   ]
  },
  {
   "cell_type": "code",
   "execution_count": 5,
   "metadata": {
    "autoscroll": "json-false",
    "collapsed": false,
    "ein.tags": [
     "worksheet-0"
    ]
   },
   "outputs": [
    {
     "name": "stdout",
     "output_type": "stream",
     "text": [
      "fort_collins\n"
     ]
    },
    {
     "name": "stdout",
     "output_type": "stream",
     "text": [
      "grenoble\n"
     ]
    },
    {
     "name": "stdout",
     "output_type": "stream",
     "text": [
      "begur\n"
     ]
    }
   ],
   "source": [
    "# missing data sensitivity\n",
    "import pandas as pd\n",
    "\n",
    "import kde\n",
    "import spatial_measures\n",
    "from utils import grid_from_bbox\n",
    "\n",
    "missing_percentages = np.arange(0, .3, .05)\n",
    "\n",
    "measure_methods = { 'geary' : spatial_measures.adjusted_geary, 'moran' : spatial_measures.moran_index }\n",
    "measure_pre_methods = { 'count' : spatial_measures.grid_cell_pois_count, 'kde' : spatial_measures.grid_cell_kde_average }\n",
    "measure_series = {}\n",
    "\n",
    "for city_ref in city_refs:\n",
    "    print(city_ref)\n",
    "    city_measures = {}\n",
    "    bbox = bboxes[city_ref]\n",
    "    city_pois = missing_poiss[city_ref]\n",
    "    city_kdes = missing_kdes[city_ref]\n",
    "    for measure_key, measure_method in measure_methods.items():\n",
    "        measure_ser = {}\n",
    "        for pre_key, pre_method in measure_pre_methods.items():\n",
    "            pre_ser = []\n",
    "            for missing_perc in missing_percentages:\n",
    "                xx, yy = grid_from_bbox(bbox, step)\n",
    "                if pre_key == 'count':\n",
    "                    ff = pre_method(city_pois[missing_perc], xx, yy)\n",
    "                else:\n",
    "                    ff = pre_method(city_kdes[missing_perc].values)\n",
    "                pre_ser.append(measure_method(ff, xx, yy))\n",
    "            measure_ser[pre_key] = pd.Series(pre_ser, index=missing_percentages)\n",
    "        city_measures[measure_key] = measure_ser\n",
    "    measure_series[city_ref] = city_measures"
   ]
  },
  {
   "cell_type": "code",
   "execution_count": 8,
   "metadata": {
    "autoscroll": "json-false",
    "collapsed": false,
    "ein.tags": [
     "worksheet-0"
    ]
   },
   "outputs": [
    {
     "name": "stdout",
     "output_type": "stream",
     "text": [
      "moran\n",
      "begur\n",
      "('count', 3.3438973504491005e-06)\n",
      "('kde', 1.0171886573403611e-06)\n",
      "grenoble\n",
      "('count', 9.7542775889720754e-08)\n",
      "('kde', 3.4794346336188778e-07)\n",
      "fort_collins\n",
      "('count', 6.7965816057710185e-07)\n",
      "('kde', 1.2604545758326601e-05)\n",
      "geary\n",
      "begur\n",
      "('count', 3.6111155002979878e-06)\n",
      "('kde', 0.0014221947509593256)\n",
      "grenoble\n",
      "('count', 6.3128246258644912e-08)\n",
      "('kde', 4.5464848216160447e-07)\n",
      "fort_collins\n",
      "('count', 2.8705560142021131e-06)\n",
      "('kde', 9.7406653528033568e-06)\n"
     ]
    }
   ],
   "source": [
    "import matplotlib.pyplot as plt\n",
    "import matplotlib.cm as cm\n",
    "\n",
    "n_cities = len(city_refs)\n",
    "n_measures = len(measure_methods)\n",
    "\n",
    "pre_colors = cm.jet_r(np.linspace(0,1,len(measure_pre_methods)))\n",
    "\n",
    "%matplotlib qt\n",
    "fig, axes = plt.subplots(n_measures, n_cities, figsize=(4 * n_cities, 4 * n_measures))\n",
    "[ax.set_title(city_ref) for city_ref, ax in zip(city_refs, axes[0])]\n",
    "[axs[0].set_ylabel(measure_key, rotation=90) for measure_key, axs in zip(measure_methods.keys(), axes)]\n",
    "for measure_key, axs in zip(measure_methods.keys(), axes):\n",
    "    print(measure_key)\n",
    "    for city_ref, ax in zip(city_refs, axs):\n",
    "        print(city_ref)\n",
    "        # city_sample_n = [activity_step_kdes[city_ref][step].size for step in steps]\n",
    "        city_measure = measure_series[city_ref][measure_key]\n",
    "        for i, pre_key in enumerate(measure_pre_methods.keys()):\n",
    "            print(pre_key, city_measure[pre_key].var())\n",
    "            ax.plot(missing_percentages, city_measure[pre_key], color=pre_colors[i], label=pre_key)\n",
    "        ax.set_xlabel('n_samples')\n",
    "            \n",
    "plt.show()"
   ]
  }
 ],
 "metadata": {
  "kernelspec": {
   "display_name": "Python 2",
   "name": "python2"
  },
  "name": "missing_data.ipynb"
 },
 "nbformat": 4,
 "nbformat_minor": 0
}
