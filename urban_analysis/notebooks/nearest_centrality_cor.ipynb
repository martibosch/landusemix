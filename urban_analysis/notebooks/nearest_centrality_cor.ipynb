{
 "cells": [
  {
   "cell_type": "code",
   "execution_count": 1,
   "metadata": {
    "autoscroll": "json-false",
    "collapsed": false,
    "ein.tags": [
     "worksheet-0"
    ]
   },
   "outputs": [],
   "source": [
    "%load_ext autoreload\n",
    "%autoreload 2"
   ]
  },
  {
   "cell_type": "code",
   "execution_count": 2,
   "metadata": {
    "autoscroll": "json-false",
    "collapsed": false,
    "ein.tags": [
     "worksheet-0"
    ]
   },
   "outputs": [],
   "source": [
    "import osm_loader\n",
    "\n",
    "bbox=[41.3752, 2.0354, 41.3889, 2.0586]"
   ]
  },
  {
   "cell_type": "code",
   "execution_count": 3,
   "metadata": {
    "autoscroll": "json-false",
    "collapsed": false,
    "ein.tags": [
     "worksheet-0"
    ]
   },
   "outputs": [],
   "source": [
    "network = osm_loader.load_network('sant_feliu', bbox)"
   ]
  },
  {
   "cell_type": "code",
   "execution_count": 4,
   "metadata": {
    "autoscroll": "json-false",
    "collapsed": false,
    "ein.tags": [
     "worksheet-0"
    ]
   },
   "outputs": [],
   "source": [
    "pois = osm_loader.load_pois('sant_feliu', bbox)"
   ]
  },
  {
   "cell_type": "code",
   "execution_count": 5,
   "metadata": {
    "autoscroll": "json-false",
    "collapsed": false,
    "ein.tags": [
     "worksheet-0"
    ]
   },
   "outputs": [],
   "source": [
    "max_dist = 1500\n",
    "max_pois=5\n",
    "\n",
    "category_gb = pois.groupby(by=['key'])\n",
    "\n",
    "network.init_pois(num_categories=len(category_gb), max_dist=max_dist, max_pois=max_pois)"
   ]
  },
  {
   "cell_type": "code",
   "execution_count": 6,
   "metadata": {
    "autoscroll": "json-false",
    "collapsed": false,
    "ein.tags": [
     "worksheet-0"
    ]
   },
   "outputs": [],
   "source": [
    "# AUTOMATIZE THIS?\n",
    "import numpy as np\n",
    "from pandas import DataFrame\n",
    "\n",
    "nearest_df = DataFrame(columns=[np.repeat([category for category, items in category_gb], max_pois), range(1, max_pois + 1) * len(category_gb)])\n",
    "\n",
    "for category, items in category_gb:\n",
    "    network.set_pois(category, items.lon, items.lat)\n",
    "    [nearest_df.__setitem__((category, k), items) for k, items in network.nearest_pois(max_dist, category, num_pois=max_pois).iteritems()]"
   ]
  },
  {
   "cell_type": "code",
   "execution_count": 10,
   "metadata": {
    "autoscroll": "json-false",
    "collapsed": false,
    "ein.tags": [
     "worksheet-0"
    ]
   },
   "outputs": [],
   "source": [
    "from geo_graph import GeoGraph\n",
    "\n",
    "g = GeoGraph(network)"
   ]
  },
  {
   "cell_type": "code",
   "execution_count": 11,
   "metadata": {
    "autoscroll": "json-false",
    "collapsed": false,
    "ein.tags": [
     "worksheet-0"
    ]
   },
   "outputs": [],
   "source": [
    "import networkx as nx\n",
    "from pandas import Series\n",
    "\n",
    "bc = nx.betweenness_centrality(g._G)\n",
    "cc = nx.closeness_centrality(g._G)\n",
    "dc = nx.degree_centrality(g._G)\n",
    "\n",
    "centrality_df = DataFrame({'betweenness': bc, 'closeness': cc, 'degree': dc})\n",
    "centrality_df.index = centrality_df.index.map(lambda geo_node: geo_node.id)"
   ]
  },
  {
   "cell_type": "code",
   "execution_count": 12,
   "metadata": {
    "autoscroll": "json-false",
    "collapsed": false,
    "ein.tags": [
     "worksheet-0"
    ]
   },
   "outputs": [
    {
     "data": {
      "text/plain": [
       "            betweenness  closeness    degree\n",
       "1376136223     0.034119   0.043849  0.007092\n",
       "1375635677     0.008274   0.014606  0.007092\n",
       "1375635585     0.005070   0.022318  0.007092\n",
       "1375635669     0.003872   0.037995  0.007092\n",
       "1375635675     0.005455   0.044920  0.007092\n",
       "1376116905     0.001569   0.042606  0.007092\n",
       "1375635702     0.011092   0.022545  0.007092\n",
       "1375635764     0.001048   0.003546  0.007092\n",
       "1375635729     0.007271   0.038948  0.007092\n",
       "1375635733     0.001066   0.017194  0.007092\n",
       "1375635755     0.004370   0.047861  0.007092\n",
       "1375635759     0.038912   0.022438  0.007092\n",
       "1375635722     0.001485   0.003783  0.007092\n",
       "1376136037     0.001218   0.003546  0.009456\n",
       "1375635765     0.004632   0.039639  0.007092\n",
       "1375635766     0.005025   0.021689  0.007092\n",
       "1375635775     0.011843   0.015403  0.007092\n",
       "1375635778     0.000695   0.017710  0.004728\n",
       "1375635780     0.004997   0.021352  0.007092\n",
       "1375635649     0.007014   0.013912  0.007092\n",
       "1375635796     0.008898   0.018519  0.007092\n",
       "1375657528     0.037775   0.046839  0.009456\n",
       "1484909704     0.013036   0.042835  0.007092\n",
       "1375657535     0.009623   0.023128  0.009456\n",
       "1375657543     0.035519   0.046483  0.007092\n",
       "1375657549     0.003216   0.022140  0.007092\n",
       "1375657552     0.009297   0.023189  0.007092\n",
       "1375657562     0.009891   0.022365  0.007092\n",
       "1375657565     0.036606   0.047670  0.009456\n",
       "1375657566     0.031869   0.041993  0.007092\n",
       "...                 ...        ...       ...\n",
       "1914008680     0.011180   0.037222  0.007092\n",
       "432818225      0.010215   0.008152  0.007092\n",
       "1375236160     0.003017   0.007610  0.007092\n",
       "1375213826     0.009341   0.008890  0.004728\n",
       "432818298      0.009368   0.038351  0.009456\n",
       "432818337      0.002994   0.034923  0.007092\n",
       "432818971      0.003872   0.032783  0.007092\n",
       "432819324      0.023506   0.042451  0.009456\n",
       "1985323442     0.012750   0.021858  0.009456\n",
       "432819468      0.010093   0.024586  0.007092\n",
       "1375240280     0.005632   0.020172  0.007092\n",
       "522817971      0.011337   0.035678  0.007092\n",
       "522817972      0.006338   0.037754  0.009456\n",
       "522817976      0.003706   0.033490  0.009456\n",
       "1910284863     0.002549   0.030603  0.009456\n",
       "1910299610     0.000618   0.028005  0.007092\n",
       "522817977      0.006958   0.036052  0.009456\n",
       "522817978      0.004386   0.035646  0.009456\n",
       "522817979      0.001468   0.030986  0.009456\n",
       "628101417      0.000000   0.019211  0.004728\n",
       "899732942      0.001776   0.018559  0.009456\n",
       "899733091      0.002499   0.018900  0.007092\n",
       "2702919571     0.000151   0.014426  0.007092\n",
       "899750300      0.002200   0.014692  0.007092\n",
       "899750276      0.014927   0.025014  0.007092\n",
       "1375240288     0.044480   0.026391  0.009456\n",
       "899750282      0.063261   0.028824  0.011820\n",
       "899763653      0.005274   0.020201  0.004728\n",
       "899763697      0.039989   0.028257  0.007092\n",
       "899750288      0.031028   0.027087  0.009456\n",
       "\n",
       "[424 rows x 3 columns]"
      ]
     },
     "execution_count": 12,
     "metadata": {},
     "output_type": "execute_result"
    }
   ],
   "source": [
    "centrality_df"
   ]
  },
  {
   "cell_type": "code",
   "execution_count": 13,
   "metadata": {
    "autoscroll": "json-false",
    "collapsed": false,
    "ein.tags": [
     "worksheet-0"
    ]
   },
   "outputs": [
    {
     "data": {
      "text/plain": [
       "              amenity      shop  betweenness  closeness    degree\n",
       "amenity      1.000000  0.493695    -0.135083   0.211928 -0.113215\n",
       "shop         0.493695  1.000000    -0.187653   0.067806 -0.004928\n",
       "betweenness -0.135083 -0.187653     1.000000   0.318083  0.320191\n",
       "closeness    0.211928  0.067806     0.318083   1.000000  0.230198\n",
       "degree      -0.113215 -0.004928     0.320191   0.230198  1.000000"
      ]
     },
     "execution_count": 13,
     "metadata": {},
     "output_type": "execute_result"
    }
   ],
   "source": [
    "import pandas as pd\n",
    "\n",
    "nearest_centrality_df = pd.concat([\n",
    "    DataFrame({'amenity': nearest_df['amenity'][1],\n",
    "     'shop': nearest_df['shop'][1]}),\n",
    "    centrality_df], axis=1)\n",
    "nearest_centrality_df.corr()"
   ]
  },
  {
   "cell_type": "code",
   "execution_count": 14,
   "metadata": {
    "autoscroll": "json-false",
    "collapsed": false,
    "ein.tags": [
     "worksheet-0"
    ]
   },
   "outputs": [],
   "source": [
    "%matplotlib qt\n",
    "\n",
    "g.plot_nearest(nearest_df, 'amenity', 1)"
   ]
  },
  {
   "cell_type": "code",
   "execution_count": 10,
   "metadata": {
    "autoscroll": "json-false",
    "collapsed": false,
    "ein.tags": [
     "worksheet-0"
    ]
   },
   "outputs": [],
   "source": [
    "%matplotlib qt\n",
    "\n",
    "g.plot_nearest(nearest_df, 'shop', 1)"
   ]
  },
  {
   "cell_type": "code",
   "execution_count": 0,
   "metadata": {
    "autoscroll": "json-false",
    "collapsed": false,
    "ein.tags": [
     "worksheet-0"
    ]
   },
   "outputs": [],
   "source": [
    "import seaborn as sns\n",
    "import matplotlib.pyplot as plt\n",
    "\n",
    "%matplotlib inline\n",
    "g = sns.PairGrid(nearest_df, diag_sharey=False, size=5)\n",
    "g.map_lower(sns.kdeplot, cmap=\"Blues_d\")\n",
    "g.map_upper(plt.scatter)\n",
    "# g.map_diag(sns.kdeplot, lw=3)\n",
    "g.map_diag(plt.hist)"
   ]
  }
 ],
 "metadata": {
  "kernelspec": {
   "display_name": "Python 2",
   "name": "python2"
  },
  "name": "nearest_centrality_cor.ipynb"
 },
 "nbformat": 4,
 "nbformat_minor": 0
}
