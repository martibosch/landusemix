{
 "cells": [
  {
   "cell_type": "code",
   "execution_count": 2,
   "metadata": {
    "autoscroll": "json-false",
    "collapsed": false,
    "ein.tags": [
     "worksheet-0"
    ]
   },
   "outputs": [
    {
     "name": "stdout",
     "output_type": "stream",
     "text": [
      "The autoreload extension is already loaded. To reload it, use:\n",
      "  %reload_ext autoreload\n"
     ]
    }
   ],
   "source": [
    "# automatically update imports\n",
    "%load_ext autoreload\n",
    "%autoreload 2\n",
    "\n",
    "# For graphs\n",
    "#%matplotlib inline\n",
    "\n",
    "# snippet for relative imports\n",
    "import os\n",
    "import sys\n",
    "module_path = os.path.abspath(os.path.join('..'))\n",
    "if module_path not in sys.path:\n",
    "    sys.path.append(module_path)"
   ]
  },
  {
   "cell_type": "code",
   "execution_count": 11,
   "metadata": {
    "collapsed": false
   },
   "outputs": [],
   "source": [
    "from extract_uses import mapzen\n",
    "import graph.graph as graph\n",
    "import networkx as nx\n",
    "\n",
    "citiesFolder = 'cities/'\n",
    "city_ref = 'grenoble_france'\n",
    "#city_ref = 'avila_spain'"
   ]
  },
  {
   "cell_type": "code",
   "execution_count": 4,
   "metadata": {
    "collapsed": true
   },
   "outputs": [],
   "source": [
    "import ogr2ogr\n",
    "\n",
    "call_ogr = ['ogr2ogr','-f',\"ESRI Shapefile\",folder+city_country,sqlite_file,'-dsco','SPATIALITE=yes']\n",
    "\n",
    "ogr2ogr.main([\"\",\"-f\", \"ESRI Shapefile\", \"cities/avila_spain\", \"cities/avila_spain.sqlite\", \"-dsco\", \"SPATIALITE=YES\"])\n"
   ]
  },
  {
   "cell_type": "code",
   "execution_count": 14,
   "metadata": {
    "collapsed": false
   },
   "outputs": [
    {
     "name": "stdout",
     "output_type": "stream",
     "text": [
      "('Downloaded osm pbf:', 'https://s3.amazonaws.com/metro-extracts.mapzen.com/grenoble_france.osm.pbf')\n",
      "Spatialite: OSM processed\n",
      "('cities/grenoble_france', 'cities/grenoble_france.sqlite')\n",
      "ogr2ogr: SQLite to Shapefile done\n"
     ]
    }
   ],
   "source": [
    "# Create the graph representing the road network of the city\n",
    "graph.spatialite_network(citiesFolder, city_ref)"
   ]
  },
  {
   "cell_type": "code",
   "execution_count": 13,
   "metadata": {
    "collapsed": false
   },
   "outputs": [],
   "source": [
    "g = graph.load_graph(citiesFolder + city_ref)"
   ]
  },
  {
   "cell_type": "code",
   "execution_count": 10,
   "metadata": {
    "collapsed": false
   },
   "outputs": [
    {
     "name": "stdout",
     "output_type": "stream",
     "text": [
      "Nodes: Place Verdun, Stade des alpes\n",
      "('Distance to closest node in Km: ', 980.4829203337304)\n",
      "(2335, {'cardinality': 1, 'pos': (-4.6401036, 40.6766081)})\n",
      "('Distance to closest node in Km: ', 980.9811557089745)\n",
      "(2335, {'cardinality': 1, 'pos': (-4.6401036, 40.6766081)})\n"
     ]
    }
   ],
   "source": [
    "# Get closest nodes\n",
    "nodeOfInterest1 = (5.732105 , 45.188835) # Place verdun\n",
    "nodeOfInterest2 = (5.740238, 45.187474) # Stade des alpes \n",
    "print('Nodes: Place Verdun, Stade des alpes')\n",
    "\n",
    "closest_node1 = graph.get_closest_node(nodeOfInterest1, g)\n",
    "print(closest_node1)\n",
    "\n",
    "closest_node2 = graph.get_closest_node(nodeOfInterest2, g)\n",
    "print(closest_node2)"
   ]
  },
  {
   "cell_type": "code",
   "execution_count": 9,
   "metadata": {
    "collapsed": false
   },
   "outputs": [
    {
     "name": "stdout",
     "output_type": "stream",
     "text": [
      "('Cost, Length: ', 0, 0)\n"
     ]
    }
   ],
   "source": [
    "cost = nx.shortest_path_length(g, closest_node1[0], closest_node2[0], 'cost')\n",
    "length = nx.shortest_path_length(g, closest_node1[0], closest_node2[0], 'length')\n",
    "print( \"Cost, Length: \", cost ,  length)\n",
    "\n",
    "shortest_path = nx.shortest_path(g, closest_node1[0], closest_node2[0], 'cost')\n",
    "path_edges = zip(shortest_path,shortest_path[1:])"
   ]
  },
  {
   "cell_type": "code",
   "execution_count": 8,
   "metadata": {
    "collapsed": false
   },
   "outputs": [],
   "source": [
    "import matplotlib.pyplot as plt\n",
    "\n",
    "# Plot\n",
    "plt.figure(figsize=(12,8))\n",
    "pos = {idx:(longitude,latitude) for (idx, (longitude,latitude)) in nx.get_node_attributes(g, 'pos').items()}\n",
    "nx.draw(g, pos, with_labels=False, node_size=5)\n",
    "# Shortest path\n",
    "nx.draw_networkx_nodes(g,pos,nodelist=shortest_path, node_size=100, node_color='r')\n",
    "nx.draw_networkx_edges(g,pos,edgelist=path_edges, width=20, edge_color='r')\n",
    "#plt.axis('equal')\n",
    "plt.show()"
   ]
  }
 ],
 "metadata": {
  "kernelspec": {
   "display_name": "Python 2",
   "language": "python",
   "name": "python2"
  },
  "language_info": {
   "codemirror_mode": {
    "name": "ipython",
    "version": 2
   },
   "file_extension": ".py",
   "mimetype": "text/x-python",
   "name": "python",
   "nbconvert_exporter": "python",
   "pygments_lexer": "ipython2",
   "version": "2.7.6"
  },
  "name": "dresden.ipynb"
 },
 "nbformat": 4,
 "nbformat_minor": 0
}
