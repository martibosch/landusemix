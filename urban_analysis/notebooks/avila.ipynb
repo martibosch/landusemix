{
 "cells": [
  {
   "cell_type": "code",
   "execution_count": 2,
   "metadata": {
    "autoscroll": "json-false",
    "collapsed": false,
    "ein.tags": [
     "worksheet-0"
    ]
   },
   "outputs": [],
   "source": [
    "# automatically update imports\n",
    "%load_ext autoreload\n",
    "%autoreload 2\n",
    "\n",
    "# For graphs\n",
    "%matplotlib inline\n",
    "\n",
    "# snippet for relative imports\n",
    "import os\n",
    "import sys\n",
    "module_path = os.path.abspath(os.path.join('..'))\n",
    "if module_path not in sys.path:\n",
    "    sys.path.append(module_path)"
   ]
  },
  {
   "cell_type": "code",
   "execution_count": 3,
   "metadata": {
    "autoscroll": "json-false",
    "collapsed": false,
    "ein.tags": [
     "worksheet-0"
    ]
   },
   "outputs": [
    {
     "name": "stdout",
     "output_type": "stream",
     "text": [
      "Querying locally for `['pois']`\n",
      "Found ['pois'] stored locally\n",
      "Querying locally for `['activity', 'residential', 'total']`\n",
      "Found ['activity', 'residential', 'total'] stored locally\n"
     ]
    }
   ],
   "source": [
    "import loaders\n",
    "\n",
    "city_ref = \"avila_spain\"\n",
    "bbox = [40.62743561185206, -4.737151721737033, 40.67607507964895, -4.647455953449498]\n",
    "\n",
    "pois = loaders.load_pois(city_ref) # no need for shp, it is on hdfs\n",
    "kde = loaders.load_grid_kde(city_ref, pois, bbox)"
   ]
  },
  {
   "cell_type": "code",
   "execution_count": 7,
   "metadata": {
    "autoscroll": "json-false",
    "collapsed": false,
    "ein.tags": [
     "worksheet-0"
    ]
   },
   "outputs": [],
   "source": [
    "import plots\n",
    "\n",
    "plots.pois_scatter(pois, overlap=True, base_figsize=20)"
   ]
  },
  {
   "cell_type": "code",
   "execution_count": 5,
   "metadata": {
    "autoscroll": "json-false",
    "collapsed": false,
    "ein.tags": [
     "worksheet-0"
    ]
   },
   "outputs": [],
   "source": [
    "import spatial_measures\n",
    "import utils\n",
    "\n",
    "xx, yy = utils.grid_from_bbox(bbox, .0025)\n",
    "\n",
    "f = spatial_measures.grid_cell_pois_count(pois, xx, yy)"
   ]
  },
  {
   "cell_type": "code",
   "execution_count": 7,
   "metadata": {
    "autoscroll": "json-false",
    "collapsed": false,
    "ein.tags": [
     "worksheet-0"
    ]
   },
   "outputs": [],
   "source": [
    "# entropy = spatial_measures.relative_entropy(f)\n",
    "moran = spatial_measures.moran_index(f, xx, yy)\n",
    "geary = spatial_measures.geary_index(f, xx, yy)"
   ]
  },
  {
   "cell_type": "code",
   "execution_count": 8,
   "metadata": {
    "autoscroll": "json-false",
    "collapsed": false,
    "ein.tags": [
     "worksheet-0"
    ]
   },
   "outputs": [
    {
     "name": "stdout",
     "output_type": "stream",
     "text": [
      "(0.036022945331836774, 1.1160636347721862)\n"
     ]
    }
   ],
   "source": [
    "print(moran, geary)"
   ]
  },
  {
   "cell_type": "code",
   "execution_count": 6,
   "metadata": {
    "autoscroll": "json-false",
    "collapsed": false,
    "ein.tags": [
     "worksheet-0"
    ]
   },
   "outputs": [],
   "source": [
    "f_act_count = spatial_measures.grid_cell_pois_count(pois[pois['category']=='activity'], xx, yy)\n",
    "f_res_count = spatial_measures.grid_cell_pois_count(pois[pois['category']=='residential'], xx, yy)\n",
    "f_act_kde = spatial_measures.grid_cell_kde_average(kde['activity'].values)\n",
    "f_res_kde = spatial_measures.grid_cell_kde_average(kde['residential'].values)"
   ]
  },
  {
   "cell_type": "code",
   "execution_count": 7,
   "metadata": {
    "autoscroll": "json-false",
    "collapsed": false,
    "ein.tags": [
     "worksheet-0"
    ]
   },
   "outputs": [],
   "source": [
    "moran_act_count = spatial_measures.moran_index(f_act_count, xx, yy)\n",
    "moran_res_count = spatial_measures.moran_index(f_res_count, xx, yy)\n",
    "geary_act_count = spatial_measures.geary_index(f_act_count, xx, yy)\n",
    "geary_res_count = spatial_measures.geary_index(f_res_count, xx, yy)\n",
    "\n",
    "moran_act_kde = spatial_measures.moran_index(f_act_kde, xx, yy)\n",
    "moran_res_kde = spatial_measures.moran_index(f_res_kde, xx, yy)\n",
    "geary_act_kde = spatial_measures.geary_index(f_act_kde, xx, yy)\n",
    "geary_res_kde = spatial_measures.geary_index(f_res_kde, xx, yy)\n",
    "\n",
    "entropy_act_kde = spatial_measures.relative_entropy(f_act_kde)\n",
    "entropy_res_kde = spatial_measures.relative_entropy(f_res_kde)"
   ]
  },
  {
   "cell_type": "code",
   "execution_count": 9,
   "metadata": {
    "autoscroll": "json-false",
    "collapsed": false,
    "ein.tags": [
     "worksheet-0"
    ]
   },
   "outputs": [
    {
     "name": "stdout",
     "output_type": "stream",
     "text": [
      "Moran\n",
      "\tActivities: count 0.056330, kde 0.764349\n",
      "\tResidential: count 0.021104, kde 0.396993\n",
      "Geary\n",
      "\tActivities: count 1.019075, kde 0.232597\n",
      "\tResidential: count 1.142242, kde 0.534245\n",
      "Entropy\n",
      "\tActivities: kde 0.865412\n",
      "\tResidential: kde 0.772603\n"
     ]
    }
   ],
   "source": [
    "print(\"Moran\")\n",
    "print(\"\\tActivities: count %f, kde %f\" % (moran_act_count, moran_act_kde))\n",
    "print(\"\\tResidential: count %f, kde %f\" % (moran_res_count, moran_res_kde))\n",
    "\n",
    "print(\"Geary\")\n",
    "print(\"\\tActivities: count %f, kde %f\" % (geary_act_count, geary_act_kde))\n",
    "print(\"\\tResidential: count %f, kde %f\" % (geary_res_count, geary_res_kde))\n",
    "\n",
    "print(\"Entropy\")\n",
    "print(\"\\tActivities: kde %f\" % entropy_act_kde)\n",
    "print(\"\\tResidential: kde %f\" % entropy_res_kde)"
   ]
  }
 ],
 "metadata": {
  "kernelspec": {
   "display_name": "Python 2",
   "name": "python2"
  },
  "language_info": {
   "codemirror_mode": {
    "name": "ipython",
    "version": 2
   },
   "file_extension": ".py",
   "mimetype": "text/x-python",
   "name": "python",
   "nbconvert_exporter": "python",
   "pygments_lexer": "ipython2",
   "version": "2.7.11"
  },
  "name": "avila.ipynb"
 },
 "nbformat": 4,
 "nbformat_minor": 0
}
