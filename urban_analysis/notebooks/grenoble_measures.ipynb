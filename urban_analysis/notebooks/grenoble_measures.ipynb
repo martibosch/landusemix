{
 "cells": [
  {
   "cell_type": "code",
   "execution_count": 5,
   "metadata": {
    "autoscroll": "json-false",
    "collapsed": false,
    "ein.tags": [
     "worksheet-0"
    ]
   },
   "outputs": [
    {
     "name": "stdout",
     "output_type": "stream",
     "text": [
      "The autoreload extension is already loaded. To reload it, use:\n",
      "  %reload_ext autoreload\n"
     ]
    }
   ],
   "source": [
    "# automatically update imports\n",
    "%load_ext autoreload\n",
    "%autoreload 2\n",
    "\n",
    "# For graphs\n",
    "%matplotlib inline\n",
    "\n",
    "# snippet for relative imports\n",
    "import os\n",
    "import sys\n",
    "module_path = os.path.abspath(os.path.join('..'))\n",
    "if module_path not in sys.path:\n",
    "    sys.path.append(module_path)"
   ]
  },
  {
   "cell_type": "code",
   "execution_count": 6,
   "metadata": {
    "autoscroll": "json-false",
    "collapsed": false,
    "ein.tags": [
     "worksheet-0"
    ]
   },
   "outputs": [
    {
     "name": "stdout",
     "output_type": "stream",
     "text": [
      "Querying locally for `['pois']`\n",
      "Found ['pois'] stored locally\n"
     ]
    }
   ],
   "source": [
    "import loaders\n",
    "\n",
    "city_ref = \"grenoble_france\"\n",
    "\n",
    "bbox = [41.249412966666675, 1.8981843868873254, 41.532978950101025, 2.311865533333333]\n",
    "\n",
    "pois = loaders.load_pois(city_ref)\n",
    "# kde = loaders.load_grid_kde(city_ref, pois, bbox)"
   ]
  },
  {
   "cell_type": "code",
   "execution_count": 0,
   "metadata": {
    "autoscroll": "json-false",
    "collapsed": false,
    "ein.tags": [
     "worksheet-0"
    ]
   },
   "outputs": [],
   "source": [
    "import plots\n",
    "\n",
    "%matplotlib qt\n",
    "plots.pois_scatter(pois, overlap=True, base_figsize=20)"
   ]
  },
  {
   "cell_type": "code",
   "execution_count": 52,
   "metadata": {
    "autoscroll": "json-false",
    "collapsed": false,
    "ein.tags": [
     "worksheet-0"
    ]
   },
   "outputs": [],
   "source": [
    "import spatial_measures\n",
    "import utils\n",
    "\n",
    "xx, yy = utils.grid_from_bbox(bbox, .0025)\n",
    "f_act_count = spatial_measures.grid_cell_pois_count(pois[pois['category']=='activity'], xx, yy)\n",
    "f_res_count = spatial_measures.grid_cell_pois_count(pois[pois['category']=='residential'], xx, yy)\n",
    "# f_act_kde = spatial_measures.grid_cell_kde_average(kde['activity'].values)\n",
    "# f_res_kde = spatial_measures.grid_cell_kde_average(kde['residential'].values)"
   ]
  },
  {
   "cell_type": "code",
   "execution_count": 53,
   "metadata": {
    "autoscroll": "json-false",
    "collapsed": false,
    "ein.tags": [
     "worksheet-0"
    ]
   },
   "outputs": [],
   "source": [
    "moran_act_count = spatial_measures.moran_index(f_act_count, xx, yy)\n",
    "moran_res_count = spatial_measures.moran_index(f_res_count, xx, yy)\n",
    "# geary_act_count = spatial_measures.geary_index(f_act_count, xx, yy)\n",
    "# geary_res_count = spatial_measures.geary_index(f_res_count, xx, yy)\n",
    "\n",
    "# moran_act_kde = spatial_measures.moran_index(f_act_kde, xx, yy)\n",
    "# moran_res_kde = spatial_measures.moran_index(f_res_kde, xx, yy)\n",
    "# geary_act_kde = spatial_measures.geary_index(f_act_kde, xx, yy)\n",
    "# geary_res_kde = spatial_measures.geary_index(f_res_kde, xx, yy)\n",
    "\n",
    "entropy_act_kde = spatial_measures.relative_entropy(f_act_kde)\n",
    "entropy_res_kde = spatial_measures.relative_entropy(f_res_kde)"
   ]
  },
  {
   "cell_type": "code",
   "execution_count": 54,
   "metadata": {
    "autoscroll": "json-false",
    "collapsed": false,
    "ein.tags": [
     "worksheet-0"
    ]
   },
   "outputs": [
    {
     "name": "stdout",
     "output_type": "stream",
     "text": [
      "Moran\n",
      "\tActivities:  0.059751\n",
      "\tResidential: 0.086218\n",
      "Entropy\n",
      "\tActivities: 0.940935\n",
      "\tResidential: 0.969661\n"
     ]
    }
   ],
   "source": [
    "print(\"Moran\")\n",
    "print(\"\\tActivities:  %f\" % moran_act_count)\n",
    "print(\"\\tResidential: %f\" % moran_res_count)\n",
    "\n",
    "# print(\"Geary\")\n",
    "# print(\"\\tActivities: %f\" % geary_act_count)\n",
    "# print(\"\\tResidential: %f\" % geary_res_count)\n",
    "\n",
    "print(\"Entropy\")\n",
    "print(\"\\tActivities: %f\" % entropy_act_kde)\n",
    "print(\"\\tResidential: %f\" % entropy_res_kde)"
   ]
  }
 ],
 "metadata": {
  "kernelspec": {
   "display_name": "Python 2",
   "language": "python",
   "name": "python2"
  },
  "language_info": {
   "codemirror_mode": {
    "name": "ipython",
    "version": 2
   },
   "file_extension": ".py",
   "mimetype": "text/x-python",
   "name": "python",
   "nbconvert_exporter": "python",
   "pygments_lexer": "ipython2",
   "version": "2.7.11"
  },
  "name": "grenoble_measures.ipynb"
 },
 "nbformat": 4,
 "nbformat_minor": 0
}
