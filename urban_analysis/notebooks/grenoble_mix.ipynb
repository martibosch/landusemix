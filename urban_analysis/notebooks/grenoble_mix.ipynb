{
 "cells": [
  {
   "cell_type": "code",
   "execution_count": 1,
   "metadata": {
    "autoscroll": "json-false",
    "collapsed": false,
    "ein.tags": [
     "worksheet-0"
    ]
   },
   "outputs": [],
   "source": [
    "# automatically update imports\n",
    "%load_ext autoreload\n",
    "%autoreload 2\n",
    "\n",
    "# For graphs\n",
    "%matplotlib inline\n",
    "\n",
    "# snippet for relative imports\n",
    "import os\n",
    "import sys\n",
    "module_path = os.path.abspath(os.path.join('..'))\n",
    "if module_path not in sys.path:\n",
    "    sys.path.append(module_path)"
   ]
  },
  {
   "cell_type": "code",
   "execution_count": 2,
   "metadata": {
    "autoscroll": "json-false",
    "collapsed": false,
    "ein.tags": [
     "worksheet-0"
    ]
   },
   "outputs": [
    {
     "name": "stdout",
     "output_type": "stream",
     "text": [
      "('Folder already exists. Assumption: Already processed, then ignoring...', 'grenoble/')\n"
     ]
    }
   ],
   "source": [
    "import extract_uses.main\n",
    "\n",
    "extract_uses.main.main()"
   ]
  },
  {
   "cell_type": "code",
   "execution_count": 4,
   "metadata": {
    "autoscroll": "json-false",
    "collapsed": false,
    "ein.tags": [
     "worksheet-0"
    ]
   },
   "outputs": [
    {
     "name": "stdout",
     "output_type": "stream",
     "text": [
      "Querying locally for `['centrality']`\n",
      "Found ['centrality'] stored locally\n",
      "Querying locally for `['kde']`\n",
      "Found ['kde'] stored locally\n",
      "Querying locally for `['kde']`\n",
      "Found ['kde'] stored locally\n"
     ]
    },
    {
     "name": "stdout",
     "output_type": "stream",
     "text": [
      "('Bounding box:', [45.11334367251151, 5.5764359, 45.24389538600425, 5.9025706])\n",
      "Querying locally for `['nodes', 'edges']`\n",
      "Found ['nodes', 'edges'] stored locally\n"
     ]
    }
   ],
   "source": [
    "import pandas as pd\n",
    "\n",
    "import loaders\n",
    "import extract_uses.utils as utils\n",
    "\n",
    "city_ref = 'grenoble'\n",
    "activities_shp = city_ref+\"/full_activities.shp\"\n",
    "residential_shp = city_ref+\"/full_residential.shp\"\n",
    "\n",
    "bbox = utils.getBoundingBox(activities_shp)\n",
    "\n",
    "geo_graph = loaders.load_graph(city_ref, bbox)\n",
    "centrality_df = loaders.load_centrality(city_ref, geo_graph)\n",
    "pois_df = loaders.load_extracted_osm_pois(activities_shp)\n",
    "pois_residential_df = loaders.load_extracted_osm_pois(residential_shp)\n",
    "all_pois_df = pd.concat([pois_df, pois_residential_df])\n",
    "categories_kde_dict = loaders.load_grid_kde(city_ref, all_pois_df)\n",
    "\n",
    "# kde_df = loaders.load_graph_kde(city_ref, geo_graph, pois_df)\n",
    "# kde_residential_df = loaders.load_graph_kde(city_ref, geo_graph, pois_residential_df)\n"
   ]
  },
  {
   "cell_type": "code",
   "execution_count": 6,
   "metadata": {
    "autoscroll": "json-false",
    "collapsed": false,
    "ein.tags": [
     "worksheet-0"
    ]
   },
   "outputs": [],
   "source": [
    "import kde\n",
    "import pandas as pd\n",
    "\n",
    "all_pois_df = pd.concat([pois_df, pois_residential_df])\n",
    "categories_kde = kde.get_categories_kde(all_pois_df, bbox)"
   ]
  },
  {
   "cell_type": "code",
   "execution_count": 118,
   "metadata": {
    "autoscroll": "json-false",
    "collapsed": false,
    "ein.tags": [
     "worksheet-0"
    ]
   },
   "outputs": [
    {
     "data": {
      "text/plain": [
       "[u'shop', u'residential', u'commercial/industrial', u'leisure/amenity']"
      ]
     },
     "execution_count": 118,
     "metadata": {},
     "output_type": "execute_result"
    }
   ],
   "source": [
    "categories_kde.keys()"
   ]
  },
  {
   "cell_type": "code",
   "execution_count": 106,
   "metadata": {
    "autoscroll": "json-false",
    "collapsed": false,
    "ein.tags": [
     "worksheet-0"
    ]
   },
   "outputs": [],
   "source": [
    "keys = list(map(lambda cat : 'kde_' + str(cat), categories_kde.keys()))"
   ]
  },
  {
   "cell_type": "code",
   "execution_count": 108,
   "metadata": {
    "autoscroll": "json-false",
    "collapsed": false,
    "ein.tags": [
     "worksheet-0"
    ]
   },
   "outputs": [],
   "source": [
    "dfs = list(map(pd.DataFrame, categories_kde.values()))"
   ]
  },
  {
   "cell_type": "code",
   "execution_count": 77,
   "metadata": {
    "autoscroll": "json-false",
    "collapsed": false,
    "ein.tags": [
     "worksheet-0"
    ]
   },
   "outputs": [],
   "source": [
    "ser = pd.Series(categories_kde.values(), index=list(map(str, categories_kde.keys())))"
   ]
  },
  {
   "cell_type": "code",
   "execution_count": 116,
   "metadata": {
    "autoscroll": "json-false",
    "collapsed": false,
    "ein.tags": [
     "worksheet-0"
    ]
   },
   "outputs": [],
   "source": [
    "with pd.HDFStore(loaders._generate_file_path(city_ref), 'a') as store:\n",
    "    for key, df in zip(keys, dfs):\n",
    "        store.put(key, df, format='table')"
   ]
  },
  {
   "cell_type": "code",
   "execution_count": 19,
   "metadata": {
    "autoscroll": "json-false",
    "collapsed": false,
    "ein.tags": [
     "worksheet-0"
    ]
   },
   "outputs": [],
   "source": [
    "import pickle\n",
    "# TODO: create a `loaders` method for `category_kde`\n",
    "with open('categories_kde.p', 'wb') as f:\n",
    "    pickle.dump(categories_kde, f)"
   ]
  },
  {
   "cell_type": "code",
   "execution_count": 49,
   "metadata": {
    "autoscroll": "json-false",
    "collapsed": false,
    "ein.tags": [
     "worksheet-0"
    ]
   },
   "outputs": [],
   "source": [
    "import numpy as np\n",
    "\n",
    "phi = 0\n",
    "categories_list = categories_kde.items()\n",
    "# let: n be the total number of categories; l be the total number of grid (lattice) points\n",
    "n = len(categories_list[0][0])\n",
    "l = len(categories_list[0][1])**2 # TODO: more `correct` GRIDSIZE handling\n",
    "# [[phi += np.sum(vi - vj) for j, (kj, vj) in enumerate(categories_list[i:])] for i, (ki, vi) in enumerate(categories_list)]\n",
    "\n",
    "for i, (ki, vi) in enumerate(categories_list):\n",
    "    for j, (kj, vj) in enumerate(categories_list[i:]):\n",
    "        phi += np.sum(vi - vj) # here i would divide it by l, but computationally i can do that at the end\n",
    "\n",
    "phi_mix = phi / l # (l * n * (n-1) * .5)        "
   ]
  },
  {
   "cell_type": "code",
   "execution_count": 50,
   "metadata": {
    "autoscroll": "json-false",
    "collapsed": false,
    "ein.tags": [
     "worksheet-0"
    ]
   },
   "outputs": [
    {
     "data": {
      "text/plain": [
       "1.1384253034912237"
      ]
     },
     "execution_count": 50,
     "metadata": {},
     "output_type": "execute_result"
    }
   ],
   "source": [
    "phi_mix"
   ]
  },
  {
   "cell_type": "code",
   "execution_count": 53,
   "metadata": {
    "autoscroll": "json-false",
    "collapsed": false,
    "ein.tags": [
     "worksheet-0"
    ]
   },
   "outputs": [],
   "source": [
    "import matplotlib.cm as cm\n",
    "import matplotlib.pyplot as plt\n",
    "from mpl_toolkits.mplot3d import Axes3D\n",
    "\n",
    "%matplotlib qt\n",
    "n_rows = len(categories_kde)\n",
    "base_figsize = 8\n",
    "xx, yy = kde._grid_from_bbox(bbox)\n",
    "\n",
    "fig = plt.figure(figsize=(8, 8 * n_rows))\n",
    "i = 1\n",
    "for label, z in categories_kde.items():\n",
    "    category_pois = all_pois_df[all_pois_df['key'] == label]\n",
    "    ax1 = fig.add_subplot(n_rows, 2, i)\n",
    "    ax2 = fig.add_subplot(n_rows, 2, i+1, projection='3d')\n",
    "    ax1.scatter(category_pois['lon'], category_pois['lat'])\n",
    "    ax1.set_ylabel(label, rotation=90)\n",
    "    ax2.plot_surface(xx, yy, z, cmap=cm.RdYlBu)\n",
    "    i += 2\n",
    "    ax2.set_xlabel('lon', labelpad=-10)\n",
    "    ax2.set_ylabel('lat', labelpad=-10)\n",
    "    ax2.zaxis.set_rotate_label(False) # workaround\n",
    "    ax2.set_zlabel(r'$f_c$', rotation=0, labelpad=-15)\n",
    "    ax2.w_xaxis.set_ticklabels([])\n",
    "    ax2.w_yaxis.set_ticklabels([])\n",
    "    ax2.w_zaxis.set_ticklabels([])\n",
    "    \n",
    "plt.show()"
   ]
  }
 ],
 "metadata": {
  "kernelspec": {
   "display_name": "Python 2",
   "name": "python2"
  },
  "language_info": {
   "codemirror_mode": {
    "name": "ipython",
    "version": 2
   },
   "file_extension": ".py",
   "mimetype": "text/x-python",
   "name": "python",
   "nbconvert_exporter": "python",
   "pygments_lexer": "ipython2",
   "version": "2.7.11"
  },
  "name": "grenoble_mix.ipynb"
 },
 "nbformat": 4,
 "nbformat_minor": 0
}
