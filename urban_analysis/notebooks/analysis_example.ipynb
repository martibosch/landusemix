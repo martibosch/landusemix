{
 "cells": [
  {
   "cell_type": "code",
   "execution_count": null,
   "metadata": {
    "autoscroll": "json-false",
    "collapsed": false,
    "ein.tags": [
     "worksheet-0"
    ]
   },
   "outputs": [],
   "source": [
    "# automatically update imports\n",
    "%load_ext autoreload\n",
    "%autoreload 2\n",
    "\n",
    "# For graphs\n",
    "%matplotlib inline\n",
    "\n",
    "# snippet for relative imports\n",
    "import os\n",
    "import sys\n",
    "module_path = os.path.abspath(os.path.join('..'))\n",
    "if module_path not in sys.path:\n",
    "    sys.path.append(module_path)\n",
    "    \n",
    "from analysis import Analysis"
   ]
  },
  {
   "cell_type": "code",
   "execution_count": null,
   "metadata": {
    "collapsed": false
   },
   "outputs": [],
   "source": [
    "city_ref = 'lyon_france'\n",
    "#city_ref = 'grenoble_france'\n",
    "#city_ref = 'sydney_australia'\n",
    "\n",
    "grid_step = 250\n",
    "\n",
    "# Instance of analysis for particular city\n",
    "city = Analysis(city_ref, pois_shp_path = \"cities/\"+city_ref+\"/full_uses.shp\", grid_step=grid_step)\n",
    "\n",
    "# Visualize some points\n",
    "city.pois.head()"
   ]
  },
  {
   "cell_type": "code",
   "execution_count": null,
   "metadata": {
    "collapsed": false
   },
   "outputs": [],
   "source": [
    "city.lu_mix"
   ]
  },
  {
   "cell_type": "code",
   "execution_count": null,
   "metadata": {
    "autoscroll": "json-false",
    "collapsed": false,
    "ein.tags": [
     "worksheet-0"
    ]
   },
   "outputs": [],
   "source": [
    "city.moran"
   ]
  },
  {
   "cell_type": "code",
   "execution_count": null,
   "metadata": {
    "autoscroll": "json-false",
    "collapsed": false,
    "ein.tags": [
     "worksheet-0"
    ]
   },
   "outputs": [],
   "source": [
    "city.relative_entropy"
   ]
  },
  {
   "cell_type": "code",
   "execution_count": null,
   "metadata": {
    "collapsed": true
   },
   "outputs": [],
   "source": [
    "# Possibility: Set different grid step\n",
    "#city.grid_step = ..."
   ]
  },
  {
   "cell_type": "code",
   "execution_count": null,
   "metadata": {
    "collapsed": false
   },
   "outputs": [],
   "source": [
    "# Grid cell POIS count\n",
    "print('Activities')\n",
    "print ( city.f_count_act )\n",
    "\n",
    "print('Residential')\n",
    "print ( city.f_count_res )\n",
    "\n",
    "print('Total')\n",
    "print ( city.f_count_total)"
   ]
  },
  {
   "cell_type": "code",
   "execution_count": null,
   "metadata": {
    "collapsed": false
   },
   "outputs": [],
   "source": [
    "print_KDE = False\n",
    "if (print_KDE):\n",
    "    # Grid cell KDE average values\n",
    "    print( city.f_kde_res )\n",
    "    print( city.f_kde_act )"
   ]
  },
  {
   "cell_type": "code",
   "execution_count": null,
   "metadata": {
    "collapsed": false
   },
   "outputs": [],
   "source": [
    "import matplotlib.pyplot as plt\n",
    "import numpy as np\n",
    "import seaborn as sns\n",
    "%matplotlib inline\n",
    "\n",
    "# Pois and kde\n",
    "grid_cell_counts = [ city.f_count_act, city.f_count_res, city.f_count_total ]\n",
    "grid_kde_avgs = [ city.f_kde_act, city.f_kde_res, city.f_kde_total ]\n",
    "categories = [ 'activity', 'residential', 'total' ]\n",
    "pois = [ city.pois[city.pois['category'] == cat ] for cat in [\"activity\",\"residential\"] ] + [ city.pois ]\n",
    "\n",
    "for grid_cell_count, grid_kde_avg, category, pois_ in zip(grid_cell_counts, grid_kde_avgs, categories, pois):\n",
    "    #plots.pois_scatter(pois_, overlap=True, scatter_kws={'alpha':0.85}, title=cat)\n",
    "    \n",
    "    # Scatter\n",
    "    hm_kwargs = {'cmap': sns.diverging_palette(250, 30, s=90, sep=1, as_cmap=True), 'xticklabels': False, 'yticklabels': False}\n",
    "    fig, axes = plt.subplots(1,3, figsize=(15, 4))\n",
    "    axes[0].set_title('Pois scatter: '+category)\n",
    "    sns.regplot('lon', 'lat', data=pois_, ax=axes[0], fit_reg=False)\n",
    "    axes[0].xaxis.set_ticklabels([])\n",
    "    axes[0].yaxis.set_ticklabels([])\n",
    "\n",
    "    # Grids\n",
    "    for ax, title, mat in zip(axes[1:], ['Grid cell count: '+category, 'Grid kde avg: '+category], map(np.flipud, [grid_cell_count, grid_kde_avg])):\n",
    "    #for ax, title, mat in zip(axes[1:], ['Grid cell count: '+category, 'Grid kde avg: '+category], [grid_cell_count, grid_kde_avg]):\n",
    "        ax.set_title(title)\n",
    "        sns.heatmap(mat, ax=ax, **hm_kwargs)\n",
    "        ax.set_xlabel('lat')\n",
    "        ax.set_ylabel('lon')   \n",
    "\n",
    "plt.show()"
   ]
  },
  {
   "cell_type": "code",
   "execution_count": null,
   "metadata": {
    "collapsed": false
   },
   "outputs": [],
   "source": [
    "''' Integrals: Sensitivity to grid step on the indices \n",
    "'''\n",
    "#TODO: ....\n",
    "\n",
    "'''\n",
    "# Min, max and step increase values\n",
    "grid_min_max_step = [ 10, 100, 10 ]\n",
    "\n",
    "# Grid step\n",
    "grid_steps = range(grid_min_max_step[0], grid_min_max_step[1], grid_min_max_step[2])\n",
    "# LU_mixes vector\n",
    "lu_mixities = []\n",
    "\n",
    "for grid_step in grid_steps:\n",
    "    city.grid_step = grid_step\n",
    "    lu_mixities.append(city.lu_mix)\n",
    "\n",
    "# Plot\n",
    "plt.plot(np.square(grid_steps), lu_mixities)\n",
    "'''"
   ]
  },
  {
   "cell_type": "code",
   "execution_count": null,
   "metadata": {
    "collapsed": false
   },
   "outputs": [],
   "source": [
    "''' Sensitivity to missing data: Simulation\n",
    "'''\n",
    "\n",
    "'''\n",
    "import kde\n",
    "\n",
    "missing_percentages = np.arange(0, .3, .05)\n",
    "city_kdes, city_pois = {}, {}\n",
    "    \n",
    "for missing_perc in missing_percentages:\n",
    "    pois = city.pois.copy()\n",
    "    pois_missing = pois.drop(np.random.choice(pois.index, int(missing_perc*len(pois))))\n",
    "    city_pois[missing_perc] = pois_missing\n",
    "    city_kdes[missing_perc] = kde.get_grid_category_kde(pois_missing, city.bbox, city.grid_step)\n",
    "\n",
    "city_pois\n",
    "city_kdes\n",
    "'''\n",
    "\n",
    "'''\n",
    "import pandas as pd\n",
    "\n",
    "import kde\n",
    "import spatial_measures\n",
    "from utils import grid_from_bbox\n",
    "\n",
    "missing_percentages = np.arange(0, .3, .05)\n",
    "\n",
    "measure_methods = { 'geary' : spatial_measures.adjusted_geary, 'moran' : spatial_measures.moran_index }\n",
    "measure_pre_methods = { 'count' : spatial_measures.grid_cell_pois_count, 'kde' : spatial_measures.grid_cell_kde_average }\n",
    "measure_series = {}\n",
    "\n",
    "for city_ref in city_refs:\n",
    "    print(city_ref)\n",
    "    city_measures = {}\n",
    "    bbox = bboxes[city_ref]\n",
    "    city_pois = missing_poiss[city_ref]\n",
    "    city_kdes = missing_kdes[city_ref]\n",
    "    for measure_key, measure_method in measure_methods.items():\n",
    "        measure_ser = {}\n",
    "        for pre_key, pre_method in measure_pre_methods.items():\n",
    "            pre_ser = []\n",
    "            for missing_perc in missing_percentages:\n",
    "                xx, yy = grid_from_bbox(bbox, step)\n",
    "                if pre_key == 'count':\n",
    "                    ff = pre_method(city_pois[missing_perc], xx, yy)\n",
    "                else:\n",
    "                    ff = pre_method(city_kdes[missing_perc].values)\n",
    "                pre_ser.append(measure_method(ff, xx, yy))\n",
    "            measure_ser[pre_key] = pd.Series(pre_ser, index=missing_percentages)\n",
    "        city_measures[measure_key] = measure_ser\n",
    "    measure_series[city_ref] = city_measures\n",
    "    \n",
    "    \n",
    "    \n",
    "\n",
    "\n",
    "\n",
    "\n",
    "import matplotlib.pyplot as plt\n",
    "import matplotlib.cm as cm\n",
    "\n",
    "n_cities = len(city_refs)\n",
    "n_measures = len(measure_methods)\n",
    "\n",
    "pre_colors = cm.jet_r(np.linspace(0,1,len(measure_pre_methods)))\n",
    "\n",
    "%matplotlib qt\n",
    "fig, axes = plt.subplots(n_measures, n_cities, figsize=(4 * n_cities, 4 * n_measures))\n",
    "[ax.set_title(city_ref) for city_ref, ax in zip(city_refs, axes[0])]\n",
    "[axs[0].set_ylabel(measure_key, rotation=90) for measure_key, axs in zip(measure_methods.keys(), axes)]\n",
    "for measure_key, axs in zip(measure_methods.keys(), axes):\n",
    "    print(measure_key)\n",
    "    for city_ref, ax in zip(city_refs, axs):\n",
    "        print(city_ref)\n",
    "        # city_sample_n = [activity_step_kdes[city_ref][step].size for step in steps]\n",
    "        city_measure = measure_series[city_ref][measure_key]\n",
    "        for i, pre_key in enumerate(measure_pre_methods.keys()):\n",
    "            print(pre_key, city_measure[pre_key].var())\n",
    "            ax.plot(missing_percentages, city_measure[pre_key], color=pre_colors[i], label=pre_key)\n",
    "        ax.set_xlabel('n_samples')\n",
    "            \n",
    "plt.show()\n",
    "'''"
   ]
  }
 ],
 "metadata": {
  "kernelspec": {
   "display_name": "Python 2",
   "language": "python",
   "name": "python2"
  },
  "language_info": {
   "codemirror_mode": {
    "name": "ipython",
    "version": 2
   },
   "file_extension": ".py",
   "mimetype": "text/x-python",
   "name": "python",
   "nbconvert_exporter": "python",
   "pygments_lexer": "ipython2",
   "version": "2.7.12"
  },
  "name": "analysis_example.ipynb"
 },
 "nbformat": 4,
 "nbformat_minor": 0
}
