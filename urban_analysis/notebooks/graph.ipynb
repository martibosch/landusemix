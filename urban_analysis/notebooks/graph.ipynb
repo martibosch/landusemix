{
 "cells": [
  {
   "cell_type": "code",
   "execution_count": 1,
   "metadata": {
    "autoscroll": "json-false",
    "collapsed": false,
    "ein.tags": [
     "worksheet-0"
    ]
   },
   "outputs": [],
   "source": [
    "# automatically update imports\n",
    "%load_ext autoreload\n",
    "%autoreload 2\n",
    "\n",
    "# For graphs\n",
    "#%matplotlib inline\n",
    "\n",
    "# snippet for relative imports\n",
    "import os\n",
    "import sys\n",
    "module_path = os.path.abspath(os.path.join('..'))\n",
    "if module_path not in sys.path:\n",
    "    sys.path.append(module_path)"
   ]
  },
  {
   "cell_type": "code",
   "execution_count": 2,
   "metadata": {
    "collapsed": false
   },
   "outputs": [
    {
     "name": "stderr",
     "output_type": "stream",
     "text": [
      "/home/lgervasoni/anaconda2/envs/urbansprawl/lib/python2.7/site-packages/matplotlib/font_manager.py:273: UserWarning: Matplotlib is building the font cache using fc-list. This may take a moment.\n",
      "  warnings.warn('Matplotlib is building the font cache using fc-list. This may take a moment.')\n"
     ]
    }
   ],
   "source": [
    "from extract_uses import mapzen\n",
    "import graph.graph as graph\n",
    "import networkx as nx\n",
    "\n",
    "citiesFolder = 'cities/'\n",
    "city_ref = 'grenoble_france'"
   ]
  },
  {
   "cell_type": "code",
   "execution_count": 3,
   "metadata": {
    "collapsed": false
   },
   "outputs": [
    {
     "name": "stdout",
     "output_type": "stream",
     "text": [
      "Road network exists\n"
     ]
    }
   ],
   "source": [
    "# Create the graph representing the road network of the city\n",
    "graph.spatialite_network(citiesFolder, city_ref)"
   ]
  },
  {
   "cell_type": "code",
   "execution_count": 4,
   "metadata": {
    "collapsed": false
   },
   "outputs": [],
   "source": [
    "g = graph.load_graph(citiesFolder + city_ref)"
   ]
  },
  {
   "cell_type": "code",
   "execution_count": 5,
   "metadata": {
    "collapsed": false
   },
   "outputs": [
    {
     "name": "stdout",
     "output_type": "stream",
     "text": [
      "Nodes: Place Verdun, Stade des alpes\n",
      "('Distance to closest node in Km: ', 0.050701569976650825)\n",
      "(5917, {'cardinality': 3, 'pos': (5.7324923, 45.1884694)})\n",
      "('Distance to closest node in Km: ', 0.12541345463606438)\n",
      "(6438, {'cardinality': 3, 'pos': (5.7400939, 45.188598)})\n"
     ]
    }
   ],
   "source": [
    "# Get closest nodes\n",
    "nodeOfInterest1 = (5.732105 , 45.188835) # Place verdun\n",
    "nodeOfInterest2 = (5.740238, 45.187474) # Stade des alpes \n",
    "print('Nodes: Place Verdun, Stade des alpes')\n",
    "\n",
    "closest_node1 = graph.get_closest_node(nodeOfInterest1, g)\n",
    "print(closest_node1)\n",
    "\n",
    "closest_node2 = graph.get_closest_node(nodeOfInterest2, g)\n",
    "print(closest_node2)"
   ]
  },
  {
   "cell_type": "code",
   "execution_count": 6,
   "metadata": {
    "collapsed": false
   },
   "outputs": [
    {
     "name": "stdout",
     "output_type": "stream",
     "text": [
      "('Cost, Length: ', 58.452380732344416, 643.4998019023509)\n"
     ]
    }
   ],
   "source": [
    "cost = nx.shortest_path_length(g, closest_node1[0], closest_node2[0], 'cost')\n",
    "length = nx.shortest_path_length(g, closest_node1[0], closest_node2[0], 'length')\n",
    "print( \"Cost, Length: \", cost ,  length)\n",
    "\n",
    "shortest_path = nx.shortest_path(g, closest_node1[0], closest_node2[0], 'cost')\n",
    "path_edges = zip(shortest_path,shortest_path[1:])"
   ]
  },
  {
   "cell_type": "code",
   "execution_count": 8,
   "metadata": {
    "collapsed": false
   },
   "outputs": [],
   "source": [
    "import matplotlib.pyplot as plt\n",
    "\n",
    "# Plot\n",
    "plt.figure(figsize=(12,8))\n",
    "pos = {idx:(longitude,latitude) for (idx, (longitude,latitude)) in nx.get_node_attributes(g, 'pos').items()}\n",
    "nx.draw(g, pos, with_labels=False, node_size=5)\n",
    "# Shortest path\n",
    "nx.draw_networkx_nodes(g,pos,nodelist=shortest_path, node_size=100, node_color='r')\n",
    "nx.draw_networkx_edges(g,pos,edgelist=path_edges, width=20, edge_color='r')\n",
    "#plt.axis('equal')\n",
    "plt.show()"
   ]
  }
 ],
 "metadata": {
  "kernelspec": {
   "display_name": "Python 2",
   "language": "python",
   "name": "python2"
  },
  "language_info": {
   "codemirror_mode": {
    "name": "ipython",
    "version": 2
   },
   "file_extension": ".py",
   "mimetype": "text/x-python",
   "name": "python",
   "nbconvert_exporter": "python",
   "pygments_lexer": "ipython2",
   "version": "2.7.11"
  },
  "name": "dresden.ipynb"
 },
 "nbformat": 4,
 "nbformat_minor": 0
}
