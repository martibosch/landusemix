{
 "cells": [
  {
   "cell_type": "code",
   "execution_count": 1,
   "metadata": {
    "autoscroll": "json-false",
    "collapsed": false,
    "ein.tags": [
     "worksheet-0"
    ]
   },
   "outputs": [],
   "source": [
    "# automatically update imports\n",
    "%load_ext autoreload\n",
    "%autoreload 2\n",
    "\n",
    "# For graphs\n",
    "%matplotlib inline\n",
    "\n",
    "# snippet for relative imports\n",
    "import os\n",
    "import sys\n",
    "module_path = os.path.abspath(os.path.join('..'))\n",
    "if module_path not in sys.path:\n",
    "    sys.path.append(module_path)"
   ]
  },
  {
   "cell_type": "code",
   "execution_count": 48,
   "metadata": {
    "autoscroll": "json-false",
    "collapsed": false,
    "ein.tags": [
     "worksheet-0"
    ]
   },
   "outputs": [
    {
     "name": "stdout",
     "output_type": "stream",
     "text": [
      "Querying locally for `['pois']`\n",
      "Found ['pois'] stored locally\n",
      "Querying locally for `['kde_shop', 'kde_residential', 'kde_commercial/industrial', 'kde_leisure/amenity', 'kde_global']`\n",
      "`['kde_shop', 'kde_residential', 'kde_commercial/industrial', 'kde_leisure/amenity', 'kde_global']` is/are not stored locally. Determining it/them through `get_all_kde_dict` method\n"
     ]
    },
    {
     "name": "stdout",
     "output_type": "stream",
     "text": [
      "Saving data for `['kde_shop', 'kde_residential', 'kde_commercial/industrial', 'kde_leisure/amenity', 'kde_global']` at `/home/martibosch/urbansprawl/urban_analysis/hdfs_store/sant_feilu.h5`\n",
      "The data has been stored locally with success\n",
      "Querying locally for `['pois']`\n",
      "`['pois']` is/are not stored locally. Determining it/them through `pois_from_bbox` method\n"
     ]
    },
    {
     "name": "stdout",
     "output_type": "stream",
     "text": [
      "Saving data for `['pois']` at `/home/martibosch/urbansprawl/urban_analysis/hdfs_store/sierra_vista.h5`\n",
      "The data has been stored locally with success\n",
      "Querying locally for `['kde_shop', 'kde_residential', 'kde_commercial/industrial', 'kde_leisure/amenity', 'kde_global']`\n",
      "`['kde_shop', 'kde_residential', 'kde_commercial/industrial', 'kde_leisure/amenity', 'kde_global']` is/are not stored locally. Determining it/them through `get_all_kde_dict` method\n"
     ]
    },
    {
     "name": "stdout",
     "output_type": "stream",
     "text": [
      "Saving data for `['kde_shop', 'kde_residential', 'kde_commercial/industrial', 'kde_leisure/amenity', 'kde_global']` at `/home/martibosch/urbansprawl/urban_analysis/hdfs_store/sierra_vista.h5`\n",
      "The data has been stored locally with success\n"
     ]
    }
   ],
   "source": [
    "import loaders\n",
    "\n",
    "city_ref_sf = 'sant_feilu'\n",
    "bbox_sf = [41.3700, 2.0203, 41.3973, 2.0774]\n",
    "pois_df_sf = loaders.load_pois(city_ref_sf, bbox_sf)\n",
    "categories_kde_dict_sf = loaders.load_grid_kde(city_ref_sf, pois_df_sf, bbox_sf)\n",
    "\n",
    "city_ref_sv = 'sierra_vista'\n",
    "bbox_sv = [31.5109, -110.3800, 31.5816, -110.2052]\n",
    "pois_df_sv = loaders.load_pois(city_ref_sv, bbox_sv)\n",
    "categories_kde_dict_sv = loaders.load_grid_kde(city_ref_sv, pois_df_sv, bbox_sv)"
   ]
  },
  {
   "cell_type": "code",
   "execution_count": 57,
   "metadata": {
    "autoscroll": "json-false",
    "collapsed": false,
    "ein.tags": [
     "worksheet-0"
    ]
   },
   "outputs": [],
   "source": [
    "import measures\n",
    "import kde\n",
    "\n",
    "xx_sf, yy_sf = kde._grid_from_bbox(bbox_sf, .0015)\n",
    "xx_sv, yy_sv = kde._grid_from_bbox(bbox_sv, .0015)\n",
    "\n",
    "f_sf = categories_kde_dict_sf['kde_global'].values\n",
    "f_sv = categories_kde_dict_sv['kde_global'].values\n",
    "\n",
    "I_sf = measures.moran_index(xx_sf, yy_sf, f_sf)\n",
    "I_sv = measures.moran_index(xx_sv, yy_sv, f_sv)\n",
    "\n",
    "C_sf = measures.geary_index(xx_sf, yy_sf, f_sf)\n",
    "C_sv = measures.geary_index(xx_sv, yy_sv, f_sv)\n",
    "\n",
    "H_sf = measures.relative_entropy(f_sf)\n",
    "H_sv = measures.relative_entropy(f_sv)"
   ]
  },
  {
   "cell_type": "code",
   "execution_count": 66,
   "metadata": {
    "autoscroll": "json-false",
    "collapsed": false,
    "ein.tags": [
     "worksheet-0"
    ]
   },
   "outputs": [
    {
     "name": "stdout",
     "output_type": "stream",
     "text": [
      "Sant Feliu: I = 0.655178, C = 0.438286, H = 0.925703\n",
      "Sierra Vista: I = 0.290113, C = 0.819548, H = 0.805700\n"
     ]
    }
   ],
   "source": [
    "print('Sant Feliu: I = %f, C = %f, H = %f' % (I_sf, C_sf, H_sf))\n",
    "print('Sierra Vista: I = %f, C = %f, H = %f' % (I_sv, C_sv, H_sv))"
   ]
  },
  {
   "cell_type": "code",
   "execution_count": 1,
   "metadata": {
    "autoscroll": "json-false",
    "collapsed": false,
    "ein.tags": [
     "worksheet-0"
    ]
   },
   "outputs": [
    {
     "ename": "ImportError",
     "evalue": "No module named plots",
     "output_type": "error",
     "traceback": [
      "\u001b[1;31m---------------------------------------------------------------------------\u001b[0m",
      "\u001b[1;31mImportError\u001b[0m                               Traceback (most recent call last)",
      "\u001b[1;32m<ipython-input-1-b0b0e5f1bdbc>\u001b[0m in \u001b[0;36m<module>\u001b[1;34m()\u001b[0m\n\u001b[1;32m----> 1\u001b[1;33m \u001b[1;32mfrom\u001b[0m \u001b[0mplots\u001b[0m \u001b[1;32mimport\u001b[0m \u001b[0mplot_categories_kde\u001b[0m\u001b[1;33m\u001b[0m\u001b[0m\n\u001b[0m\u001b[0;32m      2\u001b[0m \u001b[1;33m\u001b[0m\u001b[0m\n\u001b[0;32m      3\u001b[0m \u001b[0mget_ipython\u001b[0m\u001b[1;33m(\u001b[0m\u001b[1;33m)\u001b[0m\u001b[1;33m.\u001b[0m\u001b[0mmagic\u001b[0m\u001b[1;33m(\u001b[0m\u001b[1;34mu'matplotlib qt'\u001b[0m\u001b[1;33m)\u001b[0m\u001b[1;33m\u001b[0m\u001b[0m\n\u001b[0;32m      4\u001b[0m \u001b[0mplot_categories_kde\u001b[0m\u001b[1;33m(\u001b[0m\u001b[0mcategories_kde_dict_sf\u001b[0m\u001b[1;33m,\u001b[0m \u001b[0mpois_df_sf\u001b[0m\u001b[1;33m,\u001b[0m \u001b[0mxx_sf\u001b[0m\u001b[1;33m,\u001b[0m \u001b[0myy_sf\u001b[0m\u001b[1;33m)\u001b[0m\u001b[1;33m\u001b[0m\u001b[0m\n",
      "\u001b[1;31mImportError\u001b[0m: No module named plots"
     ]
    }
   ],
   "source": [
    "from plots import plot_categories_kde\n",
    "\n",
    "%matplotlib qt\n",
    "plot_categories_kde(categories_kde_dict_sf, pois_df_sf, xx_sf, yy_sf)"
   ]
  }
 ],
 "metadata": {
  "kernelspec": {
   "display_name": "Python 2",
   "name": "python2"
  },
  "name": "sf_sv.ipynb"
 },
 "nbformat": 4,
 "nbformat_minor": 0
}
