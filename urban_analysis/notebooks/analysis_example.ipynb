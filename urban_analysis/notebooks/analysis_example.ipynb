{
 "cells": [
  {
   "cell_type": "code",
   "execution_count": 1,
   "metadata": {
    "autoscroll": "json-false",
    "collapsed": false,
    "ein.tags": [
     "worksheet-0"
    ]
   },
   "outputs": [
    {
     "name": "stderr",
     "output_type": "stream",
     "text": [
      "/home/lgervasoni/.virtualenvs/urbansprawl/local/lib/python2.7/site-packages/matplotlib/font_manager.py:273: UserWarning: Matplotlib is building the font cache using fc-list. This may take a moment.\n",
      "  warnings.warn('Matplotlib is building the font cache using fc-list. This may take a moment.')\n"
     ]
    }
   ],
   "source": [
    "# automatically update imports\n",
    "%load_ext autoreload\n",
    "%autoreload 2\n",
    "\n",
    "# For graphs\n",
    "%matplotlib inline\n",
    "\n",
    "# snippet for relative imports\n",
    "import os\n",
    "import sys\n",
    "module_path = os.path.abspath(os.path.join('..'))\n",
    "if module_path not in sys.path:\n",
    "    sys.path.append(module_path)\n",
    "    \n",
    "from analysis import Analysis"
   ]
  },
  {
   "cell_type": "code",
   "execution_count": 2,
   "metadata": {
    "autoscroll": "json-false",
    "collapsed": false,
    "ein.tags": [
     "worksheet-0"
    ]
   },
   "outputs": [],
   "source": [
    "#city_ref = 'grenoble_france' \n",
    "city_ref = 'avila_spain'"
   ]
  },
  {
   "cell_type": "code",
   "execution_count": 3,
   "metadata": {
    "collapsed": false
   },
   "outputs": [
    {
     "name": "stdout",
     "output_type": "stream",
     "text": [
      "('Bounding box:', [40.62743561185206, -4.737151721737033, 40.67607507964895, -4.647455953449498])\n",
      "Querying locally for `['pois']`\n",
      "Found ['pois'] stored locally\n"
     ]
    },
    {
     "data": {
      "text/html": [
       "<div>\n",
       "<table border=\"1\" class=\"dataframe\">\n",
       "  <thead>\n",
       "    <tr style=\"text-align: right;\">\n",
       "      <th></th>\n",
       "      <th>category</th>\n",
       "      <th>key</th>\n",
       "      <th>lat</th>\n",
       "      <th>lon</th>\n",
       "      <th>value</th>\n",
       "    </tr>\n",
       "    <tr>\n",
       "      <th>id</th>\n",
       "      <th></th>\n",
       "      <th></th>\n",
       "      <th></th>\n",
       "      <th></th>\n",
       "      <th></th>\n",
       "    </tr>\n",
       "  </thead>\n",
       "  <tbody>\n",
       "    <tr>\n",
       "      <th>325315918</th>\n",
       "      <td>activity</td>\n",
       "      <td>leisure</td>\n",
       "      <td>40.629154</td>\n",
       "      <td>-4.648201</td>\n",
       "      <td>pitch</td>\n",
       "    </tr>\n",
       "    <tr>\n",
       "      <th>325315920</th>\n",
       "      <td>activity</td>\n",
       "      <td>leisure</td>\n",
       "      <td>40.629008</td>\n",
       "      <td>-4.647757</td>\n",
       "      <td>pitch</td>\n",
       "    </tr>\n",
       "    <tr>\n",
       "      <th>325315921</th>\n",
       "      <td>activity</td>\n",
       "      <td>leisure</td>\n",
       "      <td>40.628869</td>\n",
       "      <td>-4.647456</td>\n",
       "      <td>pitch</td>\n",
       "    </tr>\n",
       "    <tr>\n",
       "      <th>3544687641</th>\n",
       "      <td>activity</td>\n",
       "      <td>shop</td>\n",
       "      <td>40.641578</td>\n",
       "      <td>-4.690898</td>\n",
       "      <td>butcher</td>\n",
       "    </tr>\n",
       "    <tr>\n",
       "      <th>3545585660</th>\n",
       "      <td>activity</td>\n",
       "      <td>shop</td>\n",
       "      <td>40.646708</td>\n",
       "      <td>-4.684789</td>\n",
       "      <td>butcher</td>\n",
       "    </tr>\n",
       "  </tbody>\n",
       "</table>\n",
       "</div>"
      ],
      "text/plain": [
       "            category      key        lat       lon    value\n",
       "id                                                         \n",
       "325315918   activity  leisure  40.629154 -4.648201    pitch\n",
       "325315920   activity  leisure  40.629008 -4.647757    pitch\n",
       "325315921   activity  leisure  40.628869 -4.647456    pitch\n",
       "3544687641  activity     shop  40.641578 -4.690898  butcher\n",
       "3545585660  activity     shop  40.646708 -4.684789  butcher"
      ]
     },
     "execution_count": 3,
     "metadata": {},
     "output_type": "execute_result"
    }
   ],
   "source": [
    "# Instance of analysis for particular city\n",
    "city = Analysis(city_ref, pois_shp_path = \"cities/\"+city_ref+\"/full_uses.shp\", grid_step=.005)\n",
    "\n",
    "# Visualize some points\n",
    "city.pois.head()"
   ]
  },
  {
   "cell_type": "code",
   "execution_count": null,
   "metadata": {
    "collapsed": false
   },
   "outputs": [],
   "source": [
    "xx, yy = city.grid\n",
    "\n",
    "import plots\n",
    "figsize = (12,6)\n",
    "plots.plot_(xx,yy,city.f_kde_act,'KDE: Activity', figsize)\n",
    "plots.plot_(xx,yy,city.f_kde_res,'KDE: Residential', figsize)"
   ]
  },
  {
   "cell_type": "code",
   "execution_count": null,
   "metadata": {
    "collapsed": false,
    "scrolled": false
   },
   "outputs": [],
   "source": [
    "###\n",
    "import lu_mix\n",
    "lu_mix_metrics = lu_mix.get_phi_metrics()\n",
    "lu_mix.normalisation_max = False # True\n",
    "\n",
    "for i in lu_mix_metrics: # Plot all metrics\n",
    "    city._f_lu_mix_grid = None\n",
    "    city._phi_metric = i\n",
    "    plots.plot_contour(xx,yy,city.f_lu_mix_grid,\"Land use mix: \"+i)\n",
    "    plots.plot_(xx,yy,city.f_lu_mix_grid,'Land use mixity: '+i, figsize)"
   ]
  },
  {
   "cell_type": "code",
   "execution_count": null,
   "metadata": {
    "collapsed": true
   },
   "outputs": [],
   "source": []
  },
  {
   "cell_type": "code",
   "execution_count": null,
   "metadata": {
    "collapsed": false
   },
   "outputs": [],
   "source": [
    "city.lu_mix"
   ]
  },
  {
   "cell_type": "code",
   "execution_count": null,
   "metadata": {
    "autoscroll": "json-false",
    "collapsed": false,
    "ein.tags": [
     "worksheet-0"
    ]
   },
   "outputs": [],
   "source": [
    "city.moran"
   ]
  },
  {
   "cell_type": "code",
   "execution_count": null,
   "metadata": {
    "autoscroll": "json-false",
    "collapsed": false,
    "ein.tags": [
     "worksheet-0"
    ]
   },
   "outputs": [],
   "source": [
    "city.relative_entropy"
   ]
  },
  {
   "cell_type": "code",
   "execution_count": null,
   "metadata": {
    "autoscroll": "json-false",
    "collapsed": false,
    "ein.tags": [
     "worksheet-0"
    ]
   },
   "outputs": [],
   "source": [
    "%matplotlib inline\n",
    "city.scatter_pois(overlap=True)"
   ]
  }
 ],
 "metadata": {
  "kernelspec": {
   "display_name": "Python 2",
   "language": "python",
   "name": "python2"
  },
  "language_info": {
   "codemirror_mode": {
    "name": "ipython",
    "version": 2
   },
   "file_extension": ".py",
   "mimetype": "text/x-python",
   "name": "python",
   "nbconvert_exporter": "python",
   "pygments_lexer": "ipython2",
   "version": "2.7.6"
  },
  "name": "analysis_example.ipynb"
 },
 "nbformat": 4,
 "nbformat_minor": 0
}
