{
 "cells": [
  {
   "cell_type": "code",
   "execution_count": 1,
   "metadata": {
    "autoscroll": "json-false",
    "collapsed": false,
    "ein.tags": [
     "worksheet-0"
    ]
   },
   "outputs": [],
   "source": [
    "# automatically update imports\n",
    "%load_ext autoreload\n",
    "%autoreload 2\n",
    "\n",
    "# For graphs\n",
    "%matplotlib inline\n",
    "\n",
    "# snippet for relative imports\n",
    "import os\n",
    "import sys\n",
    "module_path = os.path.abspath(os.path.join('..'))\n",
    "if module_path not in sys.path:\n",
    "    sys.path.append(module_path)"
   ]
  },
  {
   "cell_type": "code",
   "execution_count": 2,
   "metadata": {
    "autoscroll": "json-false",
    "collapsed": false,
    "ein.tags": [
     "worksheet-0"
    ]
   },
   "outputs": [
    {
     "name": "stdout",
     "output_type": "stream",
     "text": [
      "Saving data for `['kde_shop', 'kde_residential', 'kde_commercial/industrial', 'kde_leisure/amenity', 'kde_global']` at `/home/martibosch/urbansprawl/urban_analysis/hdfs_store/sant_feilu.h5`\n",
      "The data has been stored locally with success\n"
     ]
    },
    {
     "name": "stdout",
     "output_type": "stream",
     "text": [
      "Querying locally for `['pois']`\n",
      "Found ['pois'] stored locally\n",
      "Querying locally for `['kde_shop', 'kde_residential', 'kde_commercial/industrial', 'kde_leisure/amenity', 'kde_global']`\n",
      "`['kde_shop', 'kde_residential', 'kde_commercial/industrial', 'kde_leisure/amenity', 'kde_global']` is/are not stored locally. Determining it/them through `get_all_kde_dict` method\n"
     ]
    }
   ],
   "source": [
    "import loaders\n",
    "\n",
    "city_ref = 'sant_feilu'\n",
    "\n",
    "bbox = [41.3700, 2.0203, 41.3973, 2.0774]\n",
    "\n",
    "pois_df = loaders.load_pois(city_ref, bbox)\n",
    "categories_kde_dict = loaders.load_grid_kde(city_ref, pois_df, bbox)"
   ]
  },
  {
   "cell_type": "code",
   "execution_count": 38,
   "metadata": {
    "autoscroll": "json-false",
    "collapsed": false,
    "ein.tags": [
     "worksheet-0"
    ]
   },
   "outputs": [],
   "source": [
    "import kde\n",
    "xx, yy = kde._grid_from_bbox(bbox, 0.0015)\n",
    "arr = categories_kde_dict['kde_global'].values"
   ]
  },
  {
   "cell_type": "code",
   "execution_count": 50,
   "metadata": {
    "autoscroll": "json-false",
    "collapsed": false,
    "ein.tags": [
     "worksheet-0"
    ]
   },
   "outputs": [],
   "source": [
    "import numpy as np\n",
    "\n",
    "def moran_index(xx, yy, f):\n",
    "    x_row = np.hstack(xx)\n",
    "    y_row = np.hstack(yy)\n",
    "    f_row = np.hstack(f)\n",
    "    f_avg = 1 / np.sqrt((x_row[-1] - x_row[0])**2 + (y_row[-1] - y_row[0])**2)\n",
    "    phi = [0, 0, 0]\n",
    "    for i, (x_i, y_i) in enumerate(zip(x_row, y_row)):\n",
    "        f_i = f_row[i]\n",
    "        for j, (x_j, y_j) in enumerate(zip(x_row[i+1:-1], y_row[i+1:-1]), start=i+1):\n",
    "            # print('(%d,%d) against (%d,%d):' % (x_i, y_i, x_j, y_j))\n",
    "            w = 1.0 / np.sqrt((x_i - x_j)**2 + (y_i - y_j)**2)\n",
    "            # print('weight for (%d, %d) : %f' % (i, j, w))\n",
    "            phi[0] += w\n",
    "            phi[1] += w * ( f_i - f_avg ) * (f_row[j] - f_avg) \n",
    "        phi[2] += (f_i - f_avg) ** 2\n",
    "        # print('completed row ' + str(i) + ' of ' + str(len(x_row)))\n",
    "    return (float(len(x_row)) / phi[0]) * (phi[1] / phi[2])\n",
    "\n",
    "def geary_index(xx, yy, f):\n",
    "    x_row = np.hstack(xx)\n",
    "    y_row = np.hstack(yy)\n",
    "    f_row = np.hstack(f)\n",
    "    f_avg = 1 / np.sqrt((x_row[-1] - x_row[0])**2 + (y_row[-1] - y_row[0])**2)\n",
    "    phi = [0, 0, 0]\n",
    "    for i, (x_i, y_i) in enumerate(zip(x_row, y_row)):\n",
    "        f_i = f_row[i]\n",
    "        for j, (x_j, y_j) in enumerate(zip(x_row[i+1:-1], y_row[i+1:-1]), start=i+1):\n",
    "            # print('(%d,%d) against (%d,%d):' % (x_i, y_i, x_j, y_j))\n",
    "            w = 1.0 / np.sqrt((x_i - x_j)**2 + (y_i - y_j)**2)\n",
    "            # print('weight for (%d, %d) : %f' % (i, j, w))\n",
    "            phi[0] += w\n",
    "            phi[1] += w * ( f_i - f_row[j] ) ** 2\n",
    "        phi[2] += (f_i - f_avg) ** 2\n",
    "        # print('completed row ' + str(i) + ' of ' + str(len(x_row)))\n",
    "    return (.5 * (len(x_row) - 1) / phi[0]) * (phi[1] / phi[2])"
   ]
  },
  {
   "cell_type": "code",
   "execution_count": 61,
   "metadata": {
    "autoscroll": "json-false",
    "collapsed": false,
    "ein.tags": [
     "worksheet-0"
    ]
   },
   "outputs": [],
   "source": [
    "xx5, yy5 = np.meshgrid(np.arange(5), np.arange(5))"
   ]
  },
  {
   "cell_type": "code",
   "execution_count": 84,
   "metadata": {
    "autoscroll": "json-false",
    "collapsed": false,
    "ein.tags": [
     "worksheet-0"
    ]
   },
   "outputs": [],
   "source": [
    "zz51 = np.array([[0,0,0,0,10],[0,0,0,0,10],[0,0,0,0,0],[0,0,0,0,0],[10,10,0,0,0]])\n",
    "zz52 = np.array([[0,10,0,0,0],[0,0,0,0,10],[0,0,0,0,0],[0,0,10,0,0],[10,0,0,0,0]])\n",
    "zz53 = np.array([[0,10,0,0,0],[0,0,0,0,10],[0,0,0,0,0],[0,10,0,0,0],[10,0,0,0,0]])\n",
    "zz54 = np.array([[0,10,0,0,0],[0,0,0,0,10],[0,0,0,0,0],[0,100,0,0,0],[100,0,0,0,0]])"
   ]
  },
  {
   "cell_type": "code",
   "execution_count": 82,
   "metadata": {
    "autoscroll": "json-false",
    "collapsed": false,
    "ein.tags": [
     "worksheet-0"
    ]
   },
   "outputs": [
    {
     "data": {
      "text/plain": [
       "array([[ 0, 10,  0,  0,  0],\n",
       "       [ 0,  0,  0,  0, 10],\n",
       "       [ 0,  0,  0,  0,  0],\n",
       "       [ 0, 10,  0,  0,  0],\n",
       "       [10,  0,  0,  0,  0]])"
      ]
     },
     "execution_count": 82,
     "metadata": {},
     "output_type": "execute_result"
    }
   ],
   "source": [
    "zz53"
   ]
  },
  {
   "cell_type": "code",
   "execution_count": 80,
   "metadata": {
    "autoscroll": "json-false",
    "collapsed": false,
    "ein.tags": [
     "worksheet-0"
    ]
   },
   "outputs": [
    {
     "data": {
      "text/plain": [
       "0.9038349282493604"
      ]
     },
     "execution_count": 80,
     "metadata": {},
     "output_type": "execute_result"
    }
   ],
   "source": [
    "geary_index(xx5,yy5,zz52)"
   ]
  },
  {
   "cell_type": "code",
   "execution_count": 81,
   "metadata": {
    "autoscroll": "json-false",
    "collapsed": false,
    "ein.tags": [
     "worksheet-0"
    ]
   },
   "outputs": [
    {
     "data": {
      "text/plain": [
       "0.88473131979518993"
      ]
     },
     "execution_count": 81,
     "metadata": {},
     "output_type": "execute_result"
    }
   ],
   "source": [
    "geary_index(xx5,yy5,zz53)"
   ]
  },
  {
   "cell_type": "code",
   "execution_count": 85,
   "metadata": {
    "autoscroll": "json-false",
    "collapsed": false,
    "ein.tags": [
     "worksheet-0"
    ]
   },
   "outputs": [
    {
     "data": {
      "text/plain": [
       "0.88752798299049473"
      ]
     },
     "execution_count": 85,
     "metadata": {},
     "output_type": "execute_result"
    }
   ],
   "source": [
    "geary_index(xx5,yy5,zz54)"
   ]
  },
  {
   "cell_type": "code",
   "execution_count": 43,
   "metadata": {
    "autoscroll": "json-false",
    "collapsed": false,
    "ein.tags": [
     "worksheet-0"
    ]
   },
   "outputs": [
    {
     "data": {
      "text/plain": [
       "array([[ 4,  9, 16],\n",
       "       [ 9, 16, 25],\n",
       "       [16, 25, 36]])"
      ]
     },
     "execution_count": 43,
     "metadata": {},
     "output_type": "execute_result"
    }
   ],
   "source": [
    "def f(x,y): return (x + y)**2\n",
    "ff = np.vectorize(f)\n",
    "zz = ff(xx,yy)\n",
    "zz"
   ]
  },
  {
   "cell_type": "code",
   "execution_count": 40,
   "metadata": {
    "autoscroll": "json-false",
    "collapsed": false,
    "ein.tags": [
     "worksheet-0"
    ]
   },
   "outputs": [
    {
     "data": {
      "text/plain": [
       "0.65517825707838673"
      ]
     },
     "execution_count": 40,
     "metadata": {},
     "output_type": "execute_result"
    },
    {
     "name": "stdout",
     "output_type": "stream",
     "text": [
      "15.8550498051\n"
     ]
    }
   ],
   "source": [
    "moran_index(xx,yy,arr)"
   ]
  },
  {
   "cell_type": "code",
   "execution_count": 19,
   "metadata": {
    "autoscroll": "json-false",
    "collapsed": false,
    "ein.tags": [
     "worksheet-0"
    ]
   },
   "outputs": [],
   "source": [
    "xx, yy = np.meshgrid(np.arange(1,11), np.arange(21,26))"
   ]
  },
  {
   "cell_type": "code",
   "execution_count": 23,
   "metadata": {
    "autoscroll": "json-false",
    "collapsed": false,
    "ein.tags": [
     "worksheet-0"
    ]
   },
   "outputs": [
    {
     "data": {
      "text/plain": [
       "array([[ 1,  2,  3,  4,  5,  6,  7,  8,  9, 10],\n",
       "       [ 1,  2,  3,  4,  5,  6,  7,  8,  9, 10],\n",
       "       [ 1,  2,  3,  4,  5,  6,  7,  8,  9, 10],\n",
       "       [ 1,  2,  3,  4,  5,  6,  7,  8,  9, 10],\n",
       "       [ 1,  2,  3,  4,  5,  6,  7,  8,  9, 10]])"
      ]
     },
     "execution_count": 23,
     "metadata": {},
     "output_type": "execute_result"
    }
   ],
   "source": [
    "xx"
   ]
  },
  {
   "cell_type": "code",
   "execution_count": 22,
   "metadata": {
    "autoscroll": "json-false",
    "collapsed": false,
    "ein.tags": [
     "worksheet-0"
    ]
   },
   "outputs": [
    {
     "data": {
      "text/plain": [
       "array([[21, 21, 21, 21, 21, 21, 21, 21, 21, 21],\n",
       "       [22, 22, 22, 22, 22, 22, 22, 22, 22, 22],\n",
       "       [23, 23, 23, 23, 23, 23, 23, 23, 23, 23],\n",
       "       [24, 24, 24, 24, 24, 24, 24, 24, 24, 24],\n",
       "       [25, 25, 25, 25, 25, 25, 25, 25, 25, 25]])"
      ]
     },
     "execution_count": 22,
     "metadata": {},
     "output_type": "execute_result"
    }
   ],
   "source": [
    "yy"
   ]
  },
  {
   "cell_type": "code",
   "execution_count": 28,
   "metadata": {
    "autoscroll": "json-false",
    "collapsed": false,
    "ein.tags": [
     "worksheet-0"
    ]
   },
   "outputs": [
    {
     "data": {
      "text/plain": [
       "array([[  22,   29,   48,   85,  146,  237,  364,  533,  750, 1021],\n",
       "       [  23,   30,   49,   86,  147,  238,  365,  534,  751, 1022],\n",
       "       [  24,   31,   50,   87,  148,  239,  366,  535,  752, 1023],\n",
       "       [  25,   32,   51,   88,  149,  240,  367,  536,  753, 1024],\n",
       "       [  26,   33,   52,   89,  150,  241,  368,  537,  754, 1025]])"
      ]
     },
     "execution_count": 28,
     "metadata": {},
     "output_type": "execute_result"
    }
   ],
   "source": [
    "def f(x,y): return x**3 + y\n",
    "ff = np.vectorize(f)\n",
    "zz = ff(xx,yy)\n",
    "zz"
   ]
  },
  {
   "cell_type": "code",
   "execution_count": 17,
   "metadata": {
    "autoscroll": "json-false",
    "collapsed": false,
    "ein.tags": [
     "worksheet-0"
    ]
   },
   "outputs": [
    {
     "name": "stdout",
     "output_type": "stream",
     "text": [
      "i\n",
      "(2.0338000000000007, 41.383499999999998)\n",
      "i\n",
      "(2.0638000000000019, 41.383499999999998)\n",
      "i\n",
      "(2.0353000000000008, 41.384999999999998)\n",
      "i\n",
      "(2.0653000000000019, 41.384999999999998)\n",
      "i\n",
      "(2.0368000000000008, 41.386499999999998)\n",
      "i\n",
      "(2.066800000000002, 41.386499999999998)\n",
      "i\n",
      "(2.0383000000000009, 41.387999999999998)\n",
      "i\n",
      "(2.068300000000002, 41.387999999999998)\n",
      "i\n",
      "(2.0398000000000009, 41.389499999999998)\n",
      "i\n",
      "(2.0698000000000021, 41.389499999999998)\n",
      "i\n",
      "(2.041300000000001, 41.390999999999998)\n",
      "i\n",
      "(2.0713000000000021, 41.390999999999998)\n",
      "i\n",
      "(2.0428000000000011, 41.392499999999998)\n",
      "i\n",
      "(2.0728000000000022, 41.392499999999998)\n",
      "i\n",
      "(2.0443000000000011, 41.393999999999998)\n",
      "i\n",
      "(2.0743000000000023, 41.393999999999998)\n",
      "i\n",
      "(2.0458000000000012, 41.395499999999998)\n",
      "i\n",
      "(2.0758000000000023, 41.395499999999998)\n",
      "i\n",
      "(2.0473000000000012, 41.396999999999998)\n",
      "i\n",
      "(2.0773000000000024, 41.396999999999998)\n",
      "1\n"
     ]
    },
    {
     "name": "stdout",
     "output_type": "stream",
     "text": [
      "i\n",
      "(2.0533000000000015, 41.372999999999998)\n",
      "i\n",
      "(2.0248000000000004, 41.374499999999998)\n",
      "i\n",
      "(2.0548000000000015, 41.374499999999998)\n",
      "i\n",
      "(2.0263000000000004, 41.375999999999998)\n",
      "i\n",
      "(2.0563000000000016, 41.375999999999998)\n",
      "i\n",
      "(2.0278000000000005, 41.377499999999998)\n",
      "i\n",
      "(2.0578000000000016, 41.377499999999998)\n",
      "i\n",
      "(2.0293000000000005, 41.378999999999998)\n",
      "i\n",
      "(2.0593000000000017, 41.378999999999998)\n",
      "i\n",
      "(2.0308000000000006, 41.380499999999998)\n",
      "i\n",
      "(2.0608000000000017, 41.380499999999998)\n",
      "i\n",
      "(2.0323000000000007, 41.381999999999998)\n",
      "i\n",
      "(2.0623000000000018, 41.381999999999998)\n"
     ]
    },
    {
     "name": "stdout",
     "output_type": "stream",
     "text": [
      "15.8550498051\n",
      "i\n",
      "(2.0203000000000002, 41.369999999999997)\n",
      "i\n",
      "(2.0503000000000013, 41.369999999999997)\n",
      "i\n",
      "(2.0218000000000003, 41.371499999999997)\n",
      "i\n",
      "(2.0518000000000014, 41.371499999999997)\n",
      "i\n",
      "(2.0233000000000003, 41.372999999999998)\n"
     ]
    }
   ],
   "source": [
    "import datetime\n",
    "ti = datetime.datetime.now()\n",
    "phi_I = moran_index(xx, yy, arr)\n",
    "tf = datetime.datetime.now()\n",
    "print((tf-ti).seconds)"
   ]
  }
 ],
 "metadata": {
  "kernelspec": {
   "display_name": "Python 2",
   "name": "python2"
  },
  "name": "sant_feliu_test.ipynb"
 },
 "nbformat": 4,
 "nbformat_minor": 0
}
