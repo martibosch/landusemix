{
 "cells": [
  {
   "cell_type": "code",
   "execution_count": 1,
   "metadata": {
    "autoscroll": "json-false",
    "collapsed": false,
    "ein.tags": [
     "worksheet-0"
    ]
   },
   "outputs": [
    {
     "name": "stderr",
     "output_type": "stream",
     "text": [
      "/home/lgervasoni/anaconda2/envs/urbansprawl/lib/python2.7/site-packages/matplotlib/font_manager.py:273: UserWarning: Matplotlib is building the font cache using fc-list. This may take a moment.\n",
      "  warnings.warn('Matplotlib is building the font cache using fc-list. This may take a moment.')\n"
     ]
    }
   ],
   "source": [
    "# automatically update imports\n",
    "%load_ext autoreload\n",
    "%autoreload 2\n",
    "\n",
    "# For graphs\n",
    "%matplotlib inline\n",
    "\n",
    "# snippet for relative imports\n",
    "import os\n",
    "import sys\n",
    "module_path = os.path.abspath(os.path.join('..'))\n",
    "if module_path not in sys.path:\n",
    "    sys.path.append(module_path)"
   ]
  },
  {
   "cell_type": "code",
   "execution_count": 2,
   "metadata": {
    "collapsed": false,
    "scrolled": true
   },
   "outputs": [],
   "source": [
    "# Gpci cities with its corresponding countries\n",
    "cities = [ 'Amsterdam','Bangkok','Barcelona','Beijing','Berlin','Boston','Brussels','Cairo','Chicago','Copenhagen','Frankfurt','Fukuoka','Geneva','Hong Kong','Istanbul','Kuala Lumpur','London','Los Angeles','Madrid','Mexico City','Milan','Moscow','Mumbai','New York','Osaka','Paris','San Francisco','Sao Paulo','Seoul','Shanghai','Singapore','Stockholm','Sydney','Taipei','Tokyo','Toronto','Vancouver','Vienna','Dc-Baltimore','Zurich' ]\n",
    "countries = [ 'netherlands','thailand','spain','china','germany','massachusetts','belgium','egypt','illinois','denmark','germany','japan','switzerland','china','turkey','malaysia','england','california','spain','mexico','italy','russia','india','new-york','japan','france','california','brazil','south-korea','china','','sweden','australia','city_taiwan','japan','canada','canada','austria','maryland','switzerland' ]\n",
    "cities_countries = []\n",
    "\n",
    "# Create cities_countries\n",
    "for i in range(len(cities)):\n",
    "    # Composed name corresponding to metro extracts mapzen. Replace blank space for dash. Lower-case names\n",
    "    city_country = cities[i].replace(' ','-').lower() + \"_\" + countries[i]\n",
    "    # If no country is provided, remove slash\n",
    "    if (city_country[len(city_country)-1] == \"_\"):\n",
    "        city_country = city_country[:-1]    \n",
    "    # Append\n",
    "    cities_countries.append(city_country)\n",
    "\n",
    "citiesFolder = 'cities/'\n",
    "#TODO: Set file of population count file\n",
    "#popu_count_file = \"/home/lgervasoni/gpw-v4-population-count-adjusted-to-2015-unwpp-country-totals-2000/gpw-v4-population-count-adjusted-to-2015-unwpp-country-totals_2000.tif\"\n"
   ]
  },
  {
   "cell_type": "code",
   "execution_count": 3,
   "metadata": {
    "collapsed": false
   },
   "outputs": [
    {
     "name": "stdout",
     "output_type": "stream",
     "text": [
      "('Bounding box:', [52.163001433333335, 4.465015626344743, 52.62899444811242, 5.3469176225861705])\n",
      "('Bounding box:', [12.6610428, 99.57141844969429, 15.012489299999999, 101.33683755000001])\n",
      "('Bounding box:', [41.249412966666675, 1.8981843868873254, 41.532978950101025, 2.311865533333333])\n"
     ]
    }
   ],
   "source": [
    "from analysis import Analysis\n",
    "analysis_gpci = []\n",
    "\n",
    "for i in cities_countries:\n",
    "    analysis_gpci.append(Analysis(i, pois_shp_path = citiesFolder+i+\"/full_uses.shp\"))    "
   ]
  },
  {
   "cell_type": "code",
   "execution_count": null,
   "metadata": {
    "collapsed": false
   },
   "outputs": [
    {
     "name": "stdout",
     "output_type": "stream",
     "text": [
      "amsterdam_netherlands\n",
      "bangkok_thailand\n",
      "Querying locally for `['pois']`\n",
      "`['pois']` is/are not stored locally. Determining it/them through `get_extracted_osm_points` method\n",
      "Saving data for `['pois']` at `/home/lgervasoni/urbansprawl/urban_analysis/hdfs_store/bangkok_thailand.h5`\n",
      "The data has been stored locally with success\n",
      "barcelona_spain\n",
      "Querying locally for `['pois']`\n",
      "Found ['pois'] stored locally\n",
      "beijing_china\n",
      "Querying locally for `['pois']`\n",
      "`['pois']` is/are not stored locally. Determining it/them through `get_extracted_osm_points` method\n",
      "('Downloaded and unzipped:', 'https://s3.amazonaws.com/metro-extracts.mapzen.com/beijing_china.osm2pgsql-shapefiles.zip')\n",
      "('Clip polygon file:', 'cities/beijing_china_osm_polygon.shp')\n"
     ]
    }
   ],
   "source": [
    "# Compute pois for all cities\n",
    "for i in analysis_gpci:\n",
    "    print(i.city_ref)\n",
    "    i.pois"
   ]
  },
  {
   "cell_type": "code",
   "execution_count": null,
   "metadata": {
    "collapsed": true
   },
   "outputs": [],
   "source": []
  }
 ],
 "metadata": {
  "kernelspec": {
   "display_name": "Python 2",
   "language": "python",
   "name": "python2"
  },
  "language_info": {
   "codemirror_mode": {
    "name": "ipython",
    "version": 2
   },
   "file_extension": ".py",
   "mimetype": "text/x-python",
   "name": "python",
   "nbconvert_exporter": "python",
   "pygments_lexer": "ipython2",
   "version": "2.7.11"
  },
  "name": "grenoble.ipynb"
 },
 "nbformat": 4,
 "nbformat_minor": 0
}
